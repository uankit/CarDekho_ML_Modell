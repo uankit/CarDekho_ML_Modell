{
  "nbformat": 4,
  "nbformat_minor": 0,
  "metadata": {
    "colab": {
      "name": "CarDekho.ipynb",
      "provenance": [],
      "collapsed_sections": [],
      "mount_file_id": "1-WXVdaQzXzvRAHi5J2iEschvqXNISPP4",
      "authorship_tag": "ABX9TyNbBpX3EopUcwXUlEYccqNA",
      "include_colab_link": true
    },
    "kernelspec": {
      "name": "python3",
      "display_name": "Python 3"
    }
  },
  "cells": [
    {
      "cell_type": "markdown",
      "metadata": {
        "id": "view-in-github",
        "colab_type": "text"
      },
      "source": [
        "<a href=\"https://colab.research.google.com/github/uankit/CarDekho_ML_Modell/blob/main/CarDekho.ipynb\" target=\"_parent\"><img src=\"https://colab.research.google.com/assets/colab-badge.svg\" alt=\"Open In Colab\"/></a>"
      ]
    },
    {
      "cell_type": "markdown",
      "metadata": {
        "id": "Rr_FJxJ_gc21"
      },
      "source": [
        "## **1. Problem Definition**\n",
        "#### The problem we will be exploring is **Regression**\n",
        "\n",
        "#### **Statement :**\n",
        "> Given Car Dekho dataset parameters , predict the price of a car\n",
        "\n",
        "\n",
        "\n",
        "## **2. Data**\n",
        "This dataset contains information about used cars listed on [***CarDekho***](https://www.cardekho.com).\n",
        "\n",
        "The datasets have been downloaded from[ ***Kaggle*** ](https://www.kaggle.com/nehalbirla/vehicle-dataset-from-cardekho)\n",
        "\n",
        "The original dataset contains two (.csv) data files , which combined gives the final dataset containing 9 **features** which we'll use to predict our **target variable .**\n",
        "\n",
        "\n",
        "\n",
        "## **3. Evaluation**\n",
        "\n",
        "\n",
        "> If we can reach 97% accuracy at predicting the prices of the cars, we'll pursue this project.\n",
        "\n",
        "However, due to the nature of experimentation, the evaluation metric may change over time.\n",
        "\n",
        "\n",
        "\n",
        "## **4. Features**\n",
        "The following are the features we'll use to predict our target variable (Price of the car)\n",
        "\n",
        "\n",
        "\n",
        "1.   selling_price : Price of car sold in (X.XX) lakhs . \n",
        "\n",
        "2.   km_driven : Kilometres driven by car .\n",
        "\n",
        "3.   fuel : \n",
        "                 * Petrol \n",
        "                 * Diesel  \n",
        "                 * CNG\n",
        "                 * LPG\n",
        "                 * Electric\n",
        "\n",
        "4.   seller_type : \n",
        "                 * Individual \n",
        "                 * Dealer\n",
        "                 * Trustmark Dealer\n",
        "5.   transmission :\n",
        "                 * Manual \n",
        "                 * Automatic\n",
        "\n",
        "6.   owner : \n",
        "                 * First Owner \n",
        "                 * Second Owner\n",
        "                 * Third Owner\n",
        "                 * Fourth & Above Owner\n",
        "                 * Test Drive Car\n",
        "\n",
        "\n",
        "\n",
        "\n"
      ]
    },
    {
      "cell_type": "markdown",
      "metadata": {
        "id": "ZTugrFIgg4oN"
      },
      "source": [
        "## **6. Importing Libraries**\n",
        "\n",
        "\n"
      ]
    },
    {
      "cell_type": "code",
      "metadata": {
        "id": "zji3BzJ3UkTr",
        "outputId": "396e79bd-f567-4c5c-a407-cada11ababcd",
        "colab": {
          "base_uri": "https://localhost:8080/",
          "height": 35
        }
      },
      "source": [
        "# Opening the stored datasets \n",
        "from google.colab import drive\n",
        "drive.mount('/content/drive/')\n",
        "\n",
        "\n",
        "# Exploratory Data Analysis \n",
        "import pandas as pd\n",
        "import numpy as np\n",
        "\n",
        "# Data Visualisation\n",
        "import matplotlib.pyplot as plt\n",
        "import seaborn as sns\n",
        "\n",
        "# We want our plots to appear in the notebook\n",
        "%matplotlib inline \n",
        "\n",
        "import missingno as msno\n",
        "\n",
        "## Model evaluators\n",
        "from sklearn.model_selection import train_test_split\n",
        "from sklearn.preprocessing import StandardScaler\n",
        "from math import sqrt\n",
        "from sklearn.metrics import mean_squared_error\n",
        "# from sklearn.metrics import confusion_matrix, classification_report\n",
        "# from sklearn.metrics import precision_score, recall_score, f1_score"
      ],
      "execution_count": null,
      "outputs": [
        {
          "output_type": "stream",
          "text": [
            "Drive already mounted at /content/drive/; to attempt to forcibly remount, call drive.mount(\"/content/drive/\", force_remount=True).\n"
          ],
          "name": "stdout"
        }
      ]
    },
    {
      "cell_type": "markdown",
      "metadata": {
        "id": "Yp1kWrLLt1LK"
      },
      "source": [
        "# **7. Exploratory Data Analysis**\n",
        "\n",
        "\n",
        "\n",
        "\n"
      ]
    },
    {
      "cell_type": "markdown",
      "metadata": {
        "id": "0bIoHbDx02Oh"
      },
      "source": [
        "\n",
        "\n",
        "##  **Dataset-1**\n",
        "\n"
      ]
    },
    {
      "cell_type": "code",
      "metadata": {
        "id": "lEJeDzYfUwpv",
        "outputId": "53f2e3d4-b240-470d-9873-6e2d0e9c168b",
        "colab": {
          "base_uri": "https://localhost:8080/",
          "height": 198
        }
      },
      "source": [
        "# Loading Dataset-1\n",
        "car_dekho_1 = pd.read_csv('/content/drive/My Drive/CarDekho_ML/CAR DETAILS FROM CAR DEKHO.csv')\n",
        "car_dekho_1.tail()"
      ],
      "execution_count": null,
      "outputs": [
        {
          "output_type": "execute_result",
          "data": {
            "text/html": [
              "<div>\n",
              "<style scoped>\n",
              "    .dataframe tbody tr th:only-of-type {\n",
              "        vertical-align: middle;\n",
              "    }\n",
              "\n",
              "    .dataframe tbody tr th {\n",
              "        vertical-align: top;\n",
              "    }\n",
              "\n",
              "    .dataframe thead th {\n",
              "        text-align: right;\n",
              "    }\n",
              "</style>\n",
              "<table border=\"1\" class=\"dataframe\">\n",
              "  <thead>\n",
              "    <tr style=\"text-align: right;\">\n",
              "      <th></th>\n",
              "      <th>name</th>\n",
              "      <th>year</th>\n",
              "      <th>selling_price</th>\n",
              "      <th>km_driven</th>\n",
              "      <th>fuel</th>\n",
              "      <th>seller_type</th>\n",
              "      <th>transmission</th>\n",
              "      <th>owner</th>\n",
              "    </tr>\n",
              "  </thead>\n",
              "  <tbody>\n",
              "    <tr>\n",
              "      <th>4335</th>\n",
              "      <td>Hyundai i20 Magna 1.4 CRDi (Diesel)</td>\n",
              "      <td>2014</td>\n",
              "      <td>409999</td>\n",
              "      <td>80000</td>\n",
              "      <td>Diesel</td>\n",
              "      <td>Individual</td>\n",
              "      <td>Manual</td>\n",
              "      <td>Second Owner</td>\n",
              "    </tr>\n",
              "    <tr>\n",
              "      <th>4336</th>\n",
              "      <td>Hyundai i20 Magna 1.4 CRDi</td>\n",
              "      <td>2014</td>\n",
              "      <td>409999</td>\n",
              "      <td>80000</td>\n",
              "      <td>Diesel</td>\n",
              "      <td>Individual</td>\n",
              "      <td>Manual</td>\n",
              "      <td>Second Owner</td>\n",
              "    </tr>\n",
              "    <tr>\n",
              "      <th>4337</th>\n",
              "      <td>Maruti 800 AC BSIII</td>\n",
              "      <td>2009</td>\n",
              "      <td>110000</td>\n",
              "      <td>83000</td>\n",
              "      <td>Petrol</td>\n",
              "      <td>Individual</td>\n",
              "      <td>Manual</td>\n",
              "      <td>Second Owner</td>\n",
              "    </tr>\n",
              "    <tr>\n",
              "      <th>4338</th>\n",
              "      <td>Hyundai Creta 1.6 CRDi SX Option</td>\n",
              "      <td>2016</td>\n",
              "      <td>865000</td>\n",
              "      <td>90000</td>\n",
              "      <td>Diesel</td>\n",
              "      <td>Individual</td>\n",
              "      <td>Manual</td>\n",
              "      <td>First Owner</td>\n",
              "    </tr>\n",
              "    <tr>\n",
              "      <th>4339</th>\n",
              "      <td>Renault KWID RXT</td>\n",
              "      <td>2016</td>\n",
              "      <td>225000</td>\n",
              "      <td>40000</td>\n",
              "      <td>Petrol</td>\n",
              "      <td>Individual</td>\n",
              "      <td>Manual</td>\n",
              "      <td>First Owner</td>\n",
              "    </tr>\n",
              "  </tbody>\n",
              "</table>\n",
              "</div>"
            ],
            "text/plain": [
              "                                     name  year  ...  transmission         owner\n",
              "4335  Hyundai i20 Magna 1.4 CRDi (Diesel)  2014  ...        Manual  Second Owner\n",
              "4336           Hyundai i20 Magna 1.4 CRDi  2014  ...        Manual  Second Owner\n",
              "4337                  Maruti 800 AC BSIII  2009  ...        Manual  Second Owner\n",
              "4338     Hyundai Creta 1.6 CRDi SX Option  2016  ...        Manual   First Owner\n",
              "4339                     Renault KWID RXT  2016  ...        Manual   First Owner\n",
              "\n",
              "[5 rows x 8 columns]"
            ]
          },
          "metadata": {
            "tags": []
          },
          "execution_count": 666
        }
      ]
    },
    {
      "cell_type": "code",
      "metadata": {
        "id": "uaQdCrZHYuHZ",
        "outputId": "290232d7-4c96-445c-f924-c0c565e2cfaf",
        "colab": {
          "base_uri": "https://localhost:8080/",
          "height": 35
        }
      },
      "source": [
        "car_dekho_1.shape"
      ],
      "execution_count": null,
      "outputs": [
        {
          "output_type": "execute_result",
          "data": {
            "text/plain": [
              "(4340, 8)"
            ]
          },
          "metadata": {
            "tags": []
          },
          "execution_count": 667
        }
      ]
    },
    {
      "cell_type": "markdown",
      "metadata": {
        "id": "6RE40DWiv7ea"
      },
      "source": [
        "*`shape` gives us the number of rows and columns in a dataset*\n",
        "\n",
        "*There are* **4340 rows** *and* **8 columns** *in the dataset-1* "
      ]
    },
    {
      "cell_type": "code",
      "metadata": {
        "id": "W7XTwsxRiMCx",
        "outputId": "b9bab215-df25-44f4-a34e-d081db5dcdbb",
        "colab": {
          "base_uri": "https://localhost:8080/",
          "height": 72
        }
      },
      "source": [
        "car_dekho_1.columns"
      ],
      "execution_count": null,
      "outputs": [
        {
          "output_type": "execute_result",
          "data": {
            "text/plain": [
              "Index(['name', 'year', 'selling_price', 'km_driven', 'fuel', 'seller_type',\n",
              "       'transmission', 'owner'],\n",
              "      dtype='object')"
            ]
          },
          "metadata": {
            "tags": []
          },
          "execution_count": 668
        }
      ]
    },
    {
      "cell_type": "code",
      "metadata": {
        "id": "twjq8yDiiMPL",
        "outputId": "803d3150-6750-4ec2-cb04-c1208941a34c",
        "colab": {
          "base_uri": "https://localhost:8080/",
          "height": 181
        }
      },
      "source": [
        "car_dekho_1.dtypes"
      ],
      "execution_count": null,
      "outputs": [
        {
          "output_type": "execute_result",
          "data": {
            "text/plain": [
              "name             object\n",
              "year              int64\n",
              "selling_price     int64\n",
              "km_driven         int64\n",
              "fuel             object\n",
              "seller_type      object\n",
              "transmission     object\n",
              "owner            object\n",
              "dtype: object"
            ]
          },
          "metadata": {
            "tags": []
          },
          "execution_count": 669
        }
      ]
    },
    {
      "cell_type": "code",
      "metadata": {
        "id": "bjJU-iKIiMW2",
        "outputId": "5bcbacda-766e-4256-c6d5-7ceb5ea8d896",
        "colab": {
          "base_uri": "https://localhost:8080/",
          "height": 108
        }
      },
      "source": [
        "# Since there are 5 object data type features , creating a function to find unique values in the specified feature column .\n",
        "\n",
        "def unique_val(col_name):\n",
        "  print(col_name , ':' , car_dekho_1[col_name].unique())\n",
        "\n",
        "unique_val('fuel')\n",
        "unique_val('seller_type')\n",
        "unique_val('transmission')\n",
        "unique_val('owner')"
      ],
      "execution_count": null,
      "outputs": [
        {
          "output_type": "stream",
          "text": [
            "fuel : ['Petrol' 'Diesel' 'CNG' 'LPG' 'Electric']\n",
            "seller_type : ['Individual' 'Dealer' 'Trustmark Dealer']\n",
            "transmission : ['Manual' 'Automatic']\n",
            "owner : ['First Owner' 'Second Owner' 'Fourth & Above Owner' 'Third Owner'\n",
            " 'Test Drive Car']\n"
          ],
          "name": "stdout"
        }
      ]
    },
    {
      "cell_type": "code",
      "metadata": {
        "id": "5yAiLNsNrF32"
      },
      "source": [
        "# Changing the initial format of selling_price to [x.xx] format.\n",
        "for i in car_dekho_1['selling_price']:\n",
        "  car_dekho_1['selling_price_1'] = round(car_dekho_1['selling_price']/100000,2)"
      ],
      "execution_count": null,
      "outputs": []
    },
    {
      "cell_type": "code",
      "metadata": {
        "id": "mDycoPjfrkSf",
        "outputId": "6124acfa-23f3-4921-9950-c597f4048634",
        "colab": {
          "base_uri": "https://localhost:8080/",
          "height": 198
        }
      },
      "source": [
        "car_dekho_1.head()"
      ],
      "execution_count": null,
      "outputs": [
        {
          "output_type": "execute_result",
          "data": {
            "text/html": [
              "<div>\n",
              "<style scoped>\n",
              "    .dataframe tbody tr th:only-of-type {\n",
              "        vertical-align: middle;\n",
              "    }\n",
              "\n",
              "    .dataframe tbody tr th {\n",
              "        vertical-align: top;\n",
              "    }\n",
              "\n",
              "    .dataframe thead th {\n",
              "        text-align: right;\n",
              "    }\n",
              "</style>\n",
              "<table border=\"1\" class=\"dataframe\">\n",
              "  <thead>\n",
              "    <tr style=\"text-align: right;\">\n",
              "      <th></th>\n",
              "      <th>name</th>\n",
              "      <th>year</th>\n",
              "      <th>selling_price</th>\n",
              "      <th>km_driven</th>\n",
              "      <th>fuel</th>\n",
              "      <th>seller_type</th>\n",
              "      <th>transmission</th>\n",
              "      <th>owner</th>\n",
              "      <th>selling_price_1</th>\n",
              "    </tr>\n",
              "  </thead>\n",
              "  <tbody>\n",
              "    <tr>\n",
              "      <th>0</th>\n",
              "      <td>Maruti 800 AC</td>\n",
              "      <td>2007</td>\n",
              "      <td>60000</td>\n",
              "      <td>70000</td>\n",
              "      <td>Petrol</td>\n",
              "      <td>Individual</td>\n",
              "      <td>Manual</td>\n",
              "      <td>First Owner</td>\n",
              "      <td>0.60</td>\n",
              "    </tr>\n",
              "    <tr>\n",
              "      <th>1</th>\n",
              "      <td>Maruti Wagon R LXI Minor</td>\n",
              "      <td>2007</td>\n",
              "      <td>135000</td>\n",
              "      <td>50000</td>\n",
              "      <td>Petrol</td>\n",
              "      <td>Individual</td>\n",
              "      <td>Manual</td>\n",
              "      <td>First Owner</td>\n",
              "      <td>1.35</td>\n",
              "    </tr>\n",
              "    <tr>\n",
              "      <th>2</th>\n",
              "      <td>Hyundai Verna 1.6 SX</td>\n",
              "      <td>2012</td>\n",
              "      <td>600000</td>\n",
              "      <td>100000</td>\n",
              "      <td>Diesel</td>\n",
              "      <td>Individual</td>\n",
              "      <td>Manual</td>\n",
              "      <td>First Owner</td>\n",
              "      <td>6.00</td>\n",
              "    </tr>\n",
              "    <tr>\n",
              "      <th>3</th>\n",
              "      <td>Datsun RediGO T Option</td>\n",
              "      <td>2017</td>\n",
              "      <td>250000</td>\n",
              "      <td>46000</td>\n",
              "      <td>Petrol</td>\n",
              "      <td>Individual</td>\n",
              "      <td>Manual</td>\n",
              "      <td>First Owner</td>\n",
              "      <td>2.50</td>\n",
              "    </tr>\n",
              "    <tr>\n",
              "      <th>4</th>\n",
              "      <td>Honda Amaze VX i-DTEC</td>\n",
              "      <td>2014</td>\n",
              "      <td>450000</td>\n",
              "      <td>141000</td>\n",
              "      <td>Diesel</td>\n",
              "      <td>Individual</td>\n",
              "      <td>Manual</td>\n",
              "      <td>Second Owner</td>\n",
              "      <td>4.50</td>\n",
              "    </tr>\n",
              "  </tbody>\n",
              "</table>\n",
              "</div>"
            ],
            "text/plain": [
              "                       name  year  ...         owner  selling_price_1\n",
              "0             Maruti 800 AC  2007  ...   First Owner             0.60\n",
              "1  Maruti Wagon R LXI Minor  2007  ...   First Owner             1.35\n",
              "2      Hyundai Verna 1.6 SX  2012  ...   First Owner             6.00\n",
              "3    Datsun RediGO T Option  2017  ...   First Owner             2.50\n",
              "4     Honda Amaze VX i-DTEC  2014  ...  Second Owner             4.50\n",
              "\n",
              "[5 rows x 9 columns]"
            ]
          },
          "metadata": {
            "tags": []
          },
          "execution_count": 672
        }
      ]
    },
    {
      "cell_type": "markdown",
      "metadata": {
        "id": "0GVREYQuy1rb"
      },
      "source": [
        "\n",
        "\n",
        "## **Dataset-2**\n",
        "\n"
      ]
    },
    {
      "cell_type": "code",
      "metadata": {
        "id": "8nScAu2uZNrG",
        "outputId": "bde3e53f-0f9f-4bc0-b0d1-489545c49c3a",
        "colab": {
          "base_uri": "https://localhost:8080/",
          "height": 198
        }
      },
      "source": [
        "car_dekho_2 = pd.read_csv('/content/drive/My Drive/CarDekho_ML/car data.csv')\n",
        "car_dekho_2.tail()"
      ],
      "execution_count": null,
      "outputs": [
        {
          "output_type": "execute_result",
          "data": {
            "text/html": [
              "<div>\n",
              "<style scoped>\n",
              "    .dataframe tbody tr th:only-of-type {\n",
              "        vertical-align: middle;\n",
              "    }\n",
              "\n",
              "    .dataframe tbody tr th {\n",
              "        vertical-align: top;\n",
              "    }\n",
              "\n",
              "    .dataframe thead th {\n",
              "        text-align: right;\n",
              "    }\n",
              "</style>\n",
              "<table border=\"1\" class=\"dataframe\">\n",
              "  <thead>\n",
              "    <tr style=\"text-align: right;\">\n",
              "      <th></th>\n",
              "      <th>Car_Name</th>\n",
              "      <th>Year</th>\n",
              "      <th>Selling_Price</th>\n",
              "      <th>Present_Price</th>\n",
              "      <th>Kms_Driven</th>\n",
              "      <th>Fuel_Type</th>\n",
              "      <th>Seller_Type</th>\n",
              "      <th>Transmission</th>\n",
              "      <th>Owner</th>\n",
              "    </tr>\n",
              "  </thead>\n",
              "  <tbody>\n",
              "    <tr>\n",
              "      <th>296</th>\n",
              "      <td>city</td>\n",
              "      <td>2016</td>\n",
              "      <td>9.50</td>\n",
              "      <td>11.6</td>\n",
              "      <td>33988</td>\n",
              "      <td>Diesel</td>\n",
              "      <td>Dealer</td>\n",
              "      <td>Manual</td>\n",
              "      <td>0</td>\n",
              "    </tr>\n",
              "    <tr>\n",
              "      <th>297</th>\n",
              "      <td>brio</td>\n",
              "      <td>2015</td>\n",
              "      <td>4.00</td>\n",
              "      <td>5.9</td>\n",
              "      <td>60000</td>\n",
              "      <td>Petrol</td>\n",
              "      <td>Dealer</td>\n",
              "      <td>Manual</td>\n",
              "      <td>0</td>\n",
              "    </tr>\n",
              "    <tr>\n",
              "      <th>298</th>\n",
              "      <td>city</td>\n",
              "      <td>2009</td>\n",
              "      <td>3.35</td>\n",
              "      <td>11.0</td>\n",
              "      <td>87934</td>\n",
              "      <td>Petrol</td>\n",
              "      <td>Dealer</td>\n",
              "      <td>Manual</td>\n",
              "      <td>0</td>\n",
              "    </tr>\n",
              "    <tr>\n",
              "      <th>299</th>\n",
              "      <td>city</td>\n",
              "      <td>2017</td>\n",
              "      <td>11.50</td>\n",
              "      <td>12.5</td>\n",
              "      <td>9000</td>\n",
              "      <td>Diesel</td>\n",
              "      <td>Dealer</td>\n",
              "      <td>Manual</td>\n",
              "      <td>0</td>\n",
              "    </tr>\n",
              "    <tr>\n",
              "      <th>300</th>\n",
              "      <td>brio</td>\n",
              "      <td>2016</td>\n",
              "      <td>5.30</td>\n",
              "      <td>5.9</td>\n",
              "      <td>5464</td>\n",
              "      <td>Petrol</td>\n",
              "      <td>Dealer</td>\n",
              "      <td>Manual</td>\n",
              "      <td>0</td>\n",
              "    </tr>\n",
              "  </tbody>\n",
              "</table>\n",
              "</div>"
            ],
            "text/plain": [
              "    Car_Name  Year  Selling_Price  ...  Seller_Type  Transmission Owner\n",
              "296     city  2016           9.50  ...       Dealer        Manual     0\n",
              "297     brio  2015           4.00  ...       Dealer        Manual     0\n",
              "298     city  2009           3.35  ...       Dealer        Manual     0\n",
              "299     city  2017          11.50  ...       Dealer        Manual     0\n",
              "300     brio  2016           5.30  ...       Dealer        Manual     0\n",
              "\n",
              "[5 rows x 9 columns]"
            ]
          },
          "metadata": {
            "tags": []
          },
          "execution_count": 673
        }
      ]
    },
    {
      "cell_type": "code",
      "metadata": {
        "id": "lOzTFfKTiMKI",
        "outputId": "43808afe-4f77-4211-b8a6-f440609d1ce1",
        "colab": {
          "base_uri": "https://localhost:8080/",
          "height": 35
        }
      },
      "source": [
        "car_dekho_2.shape"
      ],
      "execution_count": null,
      "outputs": [
        {
          "output_type": "execute_result",
          "data": {
            "text/plain": [
              "(301, 9)"
            ]
          },
          "metadata": {
            "tags": []
          },
          "execution_count": 674
        }
      ]
    },
    {
      "cell_type": "markdown",
      "metadata": {
        "id": "38syTnbOzDCH"
      },
      "source": [
        "\n",
        "*There are* **301 rows** *and* **9 columns** *in the dataset-1* "
      ]
    },
    {
      "cell_type": "code",
      "metadata": {
        "id": "92ekZJEOiMFa",
        "outputId": "30e3e0a5-5b48-4d69-a4d7-f261b32bd3b5",
        "colab": {
          "base_uri": "https://localhost:8080/",
          "height": 72
        }
      },
      "source": [
        "car_dekho_2.columns"
      ],
      "execution_count": null,
      "outputs": [
        {
          "output_type": "execute_result",
          "data": {
            "text/plain": [
              "Index(['Car_Name', 'Year', 'Selling_Price', 'Present_Price', 'Kms_Driven',\n",
              "       'Fuel_Type', 'Seller_Type', 'Transmission', 'Owner'],\n",
              "      dtype='object')"
            ]
          },
          "metadata": {
            "tags": []
          },
          "execution_count": 675
        }
      ]
    },
    {
      "cell_type": "code",
      "metadata": {
        "id": "7BbTAqHgiMi5",
        "outputId": "a50724be-c0e0-494c-f418-4c74312b0b87",
        "colab": {
          "base_uri": "https://localhost:8080/",
          "height": 198
        }
      },
      "source": [
        "# Renaming Columns since the features tend to be same , and therefore can be appended easily\n",
        "\n",
        "car_dekho_2.rename(columns={'Car_Name': 'name', 'Year': 'year','Selling_Price':'selling_price','Kms_Driven':'km_driven','Fuel_Type':'fuel','Seller_Type':'seller_type','Transmission':'transmission'}, inplace=True)\n",
        "car_dekho_2.rename(columns={'Owner': 'owner'},inplace=True)\n",
        "car_dekho_2.rename(columns={'selling_price' : 'selling_price_1'} , inplace=True)  # Updated code \n",
        "car_dekho_2.tail()\n"
      ],
      "execution_count": null,
      "outputs": [
        {
          "output_type": "execute_result",
          "data": {
            "text/html": [
              "<div>\n",
              "<style scoped>\n",
              "    .dataframe tbody tr th:only-of-type {\n",
              "        vertical-align: middle;\n",
              "    }\n",
              "\n",
              "    .dataframe tbody tr th {\n",
              "        vertical-align: top;\n",
              "    }\n",
              "\n",
              "    .dataframe thead th {\n",
              "        text-align: right;\n",
              "    }\n",
              "</style>\n",
              "<table border=\"1\" class=\"dataframe\">\n",
              "  <thead>\n",
              "    <tr style=\"text-align: right;\">\n",
              "      <th></th>\n",
              "      <th>name</th>\n",
              "      <th>year</th>\n",
              "      <th>selling_price_1</th>\n",
              "      <th>Present_Price</th>\n",
              "      <th>km_driven</th>\n",
              "      <th>fuel</th>\n",
              "      <th>seller_type</th>\n",
              "      <th>transmission</th>\n",
              "      <th>owner</th>\n",
              "    </tr>\n",
              "  </thead>\n",
              "  <tbody>\n",
              "    <tr>\n",
              "      <th>296</th>\n",
              "      <td>city</td>\n",
              "      <td>2016</td>\n",
              "      <td>9.50</td>\n",
              "      <td>11.6</td>\n",
              "      <td>33988</td>\n",
              "      <td>Diesel</td>\n",
              "      <td>Dealer</td>\n",
              "      <td>Manual</td>\n",
              "      <td>0</td>\n",
              "    </tr>\n",
              "    <tr>\n",
              "      <th>297</th>\n",
              "      <td>brio</td>\n",
              "      <td>2015</td>\n",
              "      <td>4.00</td>\n",
              "      <td>5.9</td>\n",
              "      <td>60000</td>\n",
              "      <td>Petrol</td>\n",
              "      <td>Dealer</td>\n",
              "      <td>Manual</td>\n",
              "      <td>0</td>\n",
              "    </tr>\n",
              "    <tr>\n",
              "      <th>298</th>\n",
              "      <td>city</td>\n",
              "      <td>2009</td>\n",
              "      <td>3.35</td>\n",
              "      <td>11.0</td>\n",
              "      <td>87934</td>\n",
              "      <td>Petrol</td>\n",
              "      <td>Dealer</td>\n",
              "      <td>Manual</td>\n",
              "      <td>0</td>\n",
              "    </tr>\n",
              "    <tr>\n",
              "      <th>299</th>\n",
              "      <td>city</td>\n",
              "      <td>2017</td>\n",
              "      <td>11.50</td>\n",
              "      <td>12.5</td>\n",
              "      <td>9000</td>\n",
              "      <td>Diesel</td>\n",
              "      <td>Dealer</td>\n",
              "      <td>Manual</td>\n",
              "      <td>0</td>\n",
              "    </tr>\n",
              "    <tr>\n",
              "      <th>300</th>\n",
              "      <td>brio</td>\n",
              "      <td>2016</td>\n",
              "      <td>5.30</td>\n",
              "      <td>5.9</td>\n",
              "      <td>5464</td>\n",
              "      <td>Petrol</td>\n",
              "      <td>Dealer</td>\n",
              "      <td>Manual</td>\n",
              "      <td>0</td>\n",
              "    </tr>\n",
              "  </tbody>\n",
              "</table>\n",
              "</div>"
            ],
            "text/plain": [
              "     name  year  selling_price_1  ...  seller_type  transmission owner\n",
              "296  city  2016             9.50  ...       Dealer        Manual     0\n",
              "297  brio  2015             4.00  ...       Dealer        Manual     0\n",
              "298  city  2009             3.35  ...       Dealer        Manual     0\n",
              "299  city  2017            11.50  ...       Dealer        Manual     0\n",
              "300  brio  2016             5.30  ...       Dealer        Manual     0\n",
              "\n",
              "[5 rows x 9 columns]"
            ]
          },
          "metadata": {
            "tags": []
          },
          "execution_count": 676
        }
      ]
    },
    {
      "cell_type": "code",
      "metadata": {
        "id": "F-UOBH23iMTt",
        "outputId": "25a5d547-b41b-472e-821a-13c035cb4794",
        "colab": {
          "base_uri": "https://localhost:8080/",
          "height": 199
        }
      },
      "source": [
        "car_dekho_2.dtypes"
      ],
      "execution_count": null,
      "outputs": [
        {
          "output_type": "execute_result",
          "data": {
            "text/plain": [
              "name                object\n",
              "year                 int64\n",
              "selling_price_1    float64\n",
              "Present_Price      float64\n",
              "km_driven            int64\n",
              "fuel                object\n",
              "seller_type         object\n",
              "transmission        object\n",
              "owner                int64\n",
              "dtype: object"
            ]
          },
          "metadata": {
            "tags": []
          },
          "execution_count": 677
        }
      ]
    },
    {
      "cell_type": "code",
      "metadata": {
        "id": "AEZpM2WniMbN",
        "outputId": "cad9df66-4bc8-4574-edb5-926a65c31e3e",
        "colab": {
          "base_uri": "https://localhost:8080/",
          "height": 90
        }
      },
      "source": [
        "# Since there are 4 object data type features , creating a function to find unique values in the specified feature column .\n",
        "\n",
        "def unique_val(col_name):\n",
        "  print(col_name , ':' , car_dekho_2[col_name].unique())\n",
        "\n",
        "unique_val('fuel')\n",
        "unique_val('seller_type')\n",
        "unique_val('transmission')\n",
        "unique_val('owner')\n",
        "\n"
      ],
      "execution_count": null,
      "outputs": [
        {
          "output_type": "stream",
          "text": [
            "fuel : ['Petrol' 'Diesel' 'CNG']\n",
            "seller_type : ['Dealer' 'Individual']\n",
            "transmission : ['Manual' 'Automatic']\n",
            "owner : [0 1 3]\n"
          ],
          "name": "stdout"
        }
      ]
    },
    {
      "cell_type": "markdown",
      "metadata": {
        "id": "vXQOm7CDz7lC"
      },
      "source": [
        "According to Kaggle  , the creator of this dataset defines\n",
        "\n",
        " 0 : Second Hand \n",
        "\n",
        " 1 : Third Hand \n",
        " \n",
        " and so on !"
      ]
    },
    {
      "cell_type": "code",
      "metadata": {
        "id": "b-3DMx38MRiR"
      },
      "source": [
        "car_dekho_2['owner'] = car_dekho_2['owner'].astype(str)"
      ],
      "execution_count": null,
      "outputs": []
    },
    {
      "cell_type": "code",
      "metadata": {
        "id": "TMNlEu1T7T8q",
        "outputId": "e853e5dd-4b7b-4a79-b361-be3ba0839003",
        "colab": {
          "base_uri": "https://localhost:8080/",
          "height": 605
        }
      },
      "source": [
        "def plot_corr(df,size=10):\n",
        "    '''Function plots a graphical correlation matrix for each pair of columns in the dataframe.\n",
        "\n",
        "    Input:\n",
        "        df: pandas DataFrame\n",
        "        size: vertical and horizontal size of the plot'''\n",
        "\n",
        "    corr = df.corr()\n",
        "    fig, ax = plt.subplots(figsize=(size, size))\n",
        "    ax.legend()\n",
        "    cax = ax.matshow(corr)\n",
        "    fig.colorbar(cax)\n",
        "    plt.xticks(range(len(corr.columns)), corr.columns, rotation='vertical')\n",
        "    plt.yticks(range(len(corr.columns)), corr.columns)\n",
        "    \n",
        "plot_corr(car_dekho_2)"
      ],
      "execution_count": null,
      "outputs": [
        {
          "output_type": "stream",
          "text": [
            "2020-10-05 18:25:22,835 - WARNING  - No handles with labels found to put in legend.\n"
          ],
          "name": "stderr"
        },
        {
          "output_type": "display_data",
          "data": {
            "image/png": "[encoded data removed]",
            "text/plain": [
              "<Figure size 720x720 with 2 Axes>"
            ]
          },
          "metadata": {
            "tags": [],
            "needs_background": "light"
          }
        }
      ]
    },
    {
      "cell_type": "markdown",
      "metadata": {
        "id": "F16TzOmmOTjk"
      },
      "source": [
        "We see a positive correlation between Present Price and Selling Price which lies between 0.8 to 1.0 . Therefore lets assume that these two features might be related , normally selling  price is directly proportional to present price .We further draw a scatter plot to get more clear view "
      ]
    },
    {
      "cell_type": "code",
      "metadata": {
        "id": "0tbAeV3FU-yn",
        "outputId": "349ec244-3c94-42ab-f6d7-bc3cf9c90646",
        "colab": {
          "base_uri": "https://localhost:8080/",
          "height": 401
        }
      },
      "source": [
        "sns.lmplot(data=car_dekho_2, x='selling_price_1' , y='Present_Price' , hue='fuel')"
      ],
      "execution_count": null,
      "outputs": [
        {
          "output_type": "execute_result",
          "data": {
            "text/plain": [
              "<seaborn.axisgrid.FacetGrid at 0x7fd23f4212b0>"
            ]
          },
          "metadata": {
            "tags": []
          },
          "execution_count": 681
        },
        {
          "output_type": "display_data",
          "data": {
            "image/png": "[encoded data removed]",
            "text/plain": [
              "<Figure size 423.5x360 with 1 Axes>"
            ]
          },
          "metadata": {
            "tags": [],
            "needs_background": "light"
          }
        }
      ]
    },
    {
      "cell_type": "code",
      "metadata": {
        "id": "vJozEYvvU_9E",
        "outputId": "c3e0aaf0-1644-4214-df33-53b8c4075002",
        "colab": {
          "base_uri": "https://localhost:8080/",
          "height": 293
        }
      },
      "source": [
        "sns.regplot(x=car_dekho_2['selling_price_1'] , y=car_dekho_2['Present_Price'] , line_kws = {'color':'g' , 'alpha':0.6})"
      ],
      "execution_count": null,
      "outputs": [
        {
          "output_type": "execute_result",
          "data": {
            "text/plain": [
              "<matplotlib.axes._subplots.AxesSubplot at 0x7fd22f990cc0>"
            ]
          },
          "metadata": {
            "tags": []
          },
          "execution_count": 682
        },
        {
          "output_type": "display_data",
          "data": {
            "image/png": "[encoded data removed]",
            "text/plain": [
              "<Figure size 432x288 with 1 Axes>"
            ]
          },
          "metadata": {
            "tags": [],
            "needs_background": "light"
          }
        }
      ]
    },
    {
      "cell_type": "markdown",
      "metadata": {
        "id": "62PzQz8xwpb2"
      },
      "source": [
        "Regression Plot to see how the selling price and present price are related . We see a positive correlation and hence a good regression line "
      ]
    },
    {
      "cell_type": "markdown",
      "metadata": {
        "id": "sg7Q2s8W0bnN"
      },
      "source": [
        "## **Merging both the datasets to work on a final dataset**\n",
        "\n",
        "\n",
        "\n",
        "*   This Dataset will be used to create our machine learning model and do the EDA\n",
        "\n"
      ]
    },
    {
      "cell_type": "code",
      "metadata": {
        "id": "DZx479pziMId",
        "outputId": "d1019c1b-6dfc-4f51-b7c9-539f3a26560d",
        "colab": {
          "base_uri": "https://localhost:8080/",
          "height": 198
        }
      },
      "source": [
        "#Merging datasets using append function \n",
        "car = car_dekho_1.append(car_dekho_2)\n",
        "car.head()"
      ],
      "execution_count": null,
      "outputs": [
        {
          "output_type": "execute_result",
          "data": {
            "text/html": [
              "<div>\n",
              "<style scoped>\n",
              "    .dataframe tbody tr th:only-of-type {\n",
              "        vertical-align: middle;\n",
              "    }\n",
              "\n",
              "    .dataframe tbody tr th {\n",
              "        vertical-align: top;\n",
              "    }\n",
              "\n",
              "    .dataframe thead th {\n",
              "        text-align: right;\n",
              "    }\n",
              "</style>\n",
              "<table border=\"1\" class=\"dataframe\">\n",
              "  <thead>\n",
              "    <tr style=\"text-align: right;\">\n",
              "      <th></th>\n",
              "      <th>name</th>\n",
              "      <th>year</th>\n",
              "      <th>selling_price</th>\n",
              "      <th>km_driven</th>\n",
              "      <th>fuel</th>\n",
              "      <th>seller_type</th>\n",
              "      <th>transmission</th>\n",
              "      <th>owner</th>\n",
              "      <th>selling_price_1</th>\n",
              "      <th>Present_Price</th>\n",
              "    </tr>\n",
              "  </thead>\n",
              "  <tbody>\n",
              "    <tr>\n",
              "      <th>0</th>\n",
              "      <td>Maruti 800 AC</td>\n",
              "      <td>2007</td>\n",
              "      <td>60000.0</td>\n",
              "      <td>70000</td>\n",
              "      <td>Petrol</td>\n",
              "      <td>Individual</td>\n",
              "      <td>Manual</td>\n",
              "      <td>First Owner</td>\n",
              "      <td>0.60</td>\n",
              "      <td>NaN</td>\n",
              "    </tr>\n",
              "    <tr>\n",
              "      <th>1</th>\n",
              "      <td>Maruti Wagon R LXI Minor</td>\n",
              "      <td>2007</td>\n",
              "      <td>135000.0</td>\n",
              "      <td>50000</td>\n",
              "      <td>Petrol</td>\n",
              "      <td>Individual</td>\n",
              "      <td>Manual</td>\n",
              "      <td>First Owner</td>\n",
              "      <td>1.35</td>\n",
              "      <td>NaN</td>\n",
              "    </tr>\n",
              "    <tr>\n",
              "      <th>2</th>\n",
              "      <td>Hyundai Verna 1.6 SX</td>\n",
              "      <td>2012</td>\n",
              "      <td>600000.0</td>\n",
              "      <td>100000</td>\n",
              "      <td>Diesel</td>\n",
              "      <td>Individual</td>\n",
              "      <td>Manual</td>\n",
              "      <td>First Owner</td>\n",
              "      <td>6.00</td>\n",
              "      <td>NaN</td>\n",
              "    </tr>\n",
              "    <tr>\n",
              "      <th>3</th>\n",
              "      <td>Datsun RediGO T Option</td>\n",
              "      <td>2017</td>\n",
              "      <td>250000.0</td>\n",
              "      <td>46000</td>\n",
              "      <td>Petrol</td>\n",
              "      <td>Individual</td>\n",
              "      <td>Manual</td>\n",
              "      <td>First Owner</td>\n",
              "      <td>2.50</td>\n",
              "      <td>NaN</td>\n",
              "    </tr>\n",
              "    <tr>\n",
              "      <th>4</th>\n",
              "      <td>Honda Amaze VX i-DTEC</td>\n",
              "      <td>2014</td>\n",
              "      <td>450000.0</td>\n",
              "      <td>141000</td>\n",
              "      <td>Diesel</td>\n",
              "      <td>Individual</td>\n",
              "      <td>Manual</td>\n",
              "      <td>Second Owner</td>\n",
              "      <td>4.50</td>\n",
              "      <td>NaN</td>\n",
              "    </tr>\n",
              "  </tbody>\n",
              "</table>\n",
              "</div>"
            ],
            "text/plain": [
              "                       name  year  ...  selling_price_1  Present_Price\n",
              "0             Maruti 800 AC  2007  ...             0.60            NaN\n",
              "1  Maruti Wagon R LXI Minor  2007  ...             1.35            NaN\n",
              "2      Hyundai Verna 1.6 SX  2012  ...             6.00            NaN\n",
              "3    Datsun RediGO T Option  2017  ...             2.50            NaN\n",
              "4     Honda Amaze VX i-DTEC  2014  ...             4.50            NaN\n",
              "\n",
              "[5 rows x 10 columns]"
            ]
          },
          "metadata": {
            "tags": []
          },
          "execution_count": 683
        }
      ]
    },
    {
      "cell_type": "code",
      "metadata": {
        "id": "jZX7wzQE4EhF",
        "outputId": "e4909fcf-6ca6-456c-da18-84935c1d5c6b",
        "colab": {
          "base_uri": "https://localhost:8080/",
          "height": 35
        }
      },
      "source": [
        "car.shape"
      ],
      "execution_count": null,
      "outputs": [
        {
          "output_type": "execute_result",
          "data": {
            "text/plain": [
              "(4641, 10)"
            ]
          },
          "metadata": {
            "tags": []
          },
          "execution_count": 684
        }
      ]
    },
    {
      "cell_type": "markdown",
      "metadata": {
        "id": "bpwJvNzW4ZxK"
      },
      "source": [
        "*The final dataset 'car' has* **4641 rows** and **9 columns** "
      ]
    },
    {
      "cell_type": "code",
      "metadata": {
        "id": "GymsLQdlXhPl",
        "outputId": "472bebbe-d878-4bef-9b35-c4243def85af",
        "colab": {
          "base_uri": "https://localhost:8080/",
          "height": 217
        }
      },
      "source": [
        "car.dtypes"
      ],
      "execution_count": null,
      "outputs": [
        {
          "output_type": "execute_result",
          "data": {
            "text/plain": [
              "name                object\n",
              "year                 int64\n",
              "selling_price      float64\n",
              "km_driven            int64\n",
              "fuel                object\n",
              "seller_type         object\n",
              "transmission        object\n",
              "owner               object\n",
              "selling_price_1    float64\n",
              "Present_Price      float64\n",
              "dtype: object"
            ]
          },
          "metadata": {
            "tags": []
          },
          "execution_count": 685
        }
      ]
    },
    {
      "cell_type": "code",
      "metadata": {
        "id": "xoW5Y5-YiMhG",
        "outputId": "2cd50c3a-a485-4a27-d91b-dabe53cd873b",
        "colab": {
          "base_uri": "https://localhost:8080/",
          "height": 108
        }
      },
      "source": [
        "# Since there are 5 object data type features , creating a function to find unique values in the specified feature column .\n",
        "\n",
        "def unique_val(col_name):\n",
        "  print(col_name , ':' , car[col_name].unique())\n",
        "\n",
        "unique_val('fuel')\n",
        "unique_val('seller_type')\n",
        "unique_val('transmission')\n",
        "unique_val('owner')\n"
      ],
      "execution_count": null,
      "outputs": [
        {
          "output_type": "stream",
          "text": [
            "fuel : ['Petrol' 'Diesel' 'CNG' 'LPG' 'Electric']\n",
            "seller_type : ['Individual' 'Dealer' 'Trustmark Dealer']\n",
            "transmission : ['Manual' 'Automatic']\n",
            "owner : ['First Owner' 'Second Owner' 'Fourth & Above Owner' 'Third Owner'\n",
            " 'Test Drive Car' '0' '1' '3']\n"
          ],
          "name": "stdout"
        }
      ]
    },
    {
      "cell_type": "code",
      "metadata": {
        "id": "LLjkkoBJiMoK",
        "outputId": "9d47f3b6-529c-4f5c-954f-66413373096a",
        "colab": {
          "base_uri": "https://localhost:8080/"
        }
      },
      "source": [
        "car['fuel'].value_counts()"
      ],
      "execution_count": null,
      "outputs": [
        {
          "output_type": "execute_result",
          "data": {
            "text/plain": [
              "Petrol      2362\n",
              "Diesel      2213\n",
              "CNG           42\n",
              "LPG           23\n",
              "Electric       1\n",
              "Name: fuel, dtype: int64"
            ]
          },
          "metadata": {
            "tags": []
          },
          "execution_count": 687
        }
      ]
    },
    {
      "cell_type": "markdown",
      "metadata": {
        "id": "2pwJ__unJRvn"
      },
      "source": [
        "`value_counts()` allows you to show how many times each of the values of a categorical column appear.\n",
        "\n",
        "Since Electric has only 1 data , therefore it might act as an outlier or is just not good for our dataset .\n",
        "\n",
        "Therefore , while analysing and removing outliers , we might check if Electric is an outlier or not . If it is not we will still drop the entire row to have a better model."
      ]
    },
    {
      "cell_type": "code",
      "metadata": {
        "id": "iHugnRqFLsYd"
      },
      "source": [
        "# Converting 'owner' column values into object datatype using astype() function\n",
        "car['owner'] = car['owner'].astype(str) "
      ],
      "execution_count": null,
      "outputs": []
    },
    {
      "cell_type": "code",
      "metadata": {
        "id": "PWkNLgZYiMSR",
        "outputId": "b0910998-a756-4222-f5e9-a1c083f9f311",
        "colab": {
          "base_uri": "https://localhost:8080/",
          "height": 54
        }
      },
      "source": [
        "car['owner'] = car['owner'].replace(['0','1','3'],['Second Owner','Third Owner','Test Drive Car'])\n",
        "unique_val('owner')"
      ],
      "execution_count": null,
      "outputs": [
        {
          "output_type": "stream",
          "text": [
            "owner : ['First Owner' 'Second Owner' 'Fourth & Above Owner' 'Third Owner'\n",
            " 'Test Drive Car']\n"
          ],
          "name": "stdout"
        }
      ]
    },
    {
      "cell_type": "code",
      "metadata": {
        "id": "JbrWHkQAJf_3",
        "outputId": "153138d4-3bbd-41ba-d914-54f7f3210836",
        "colab": {
          "base_uri": "https://localhost:8080/"
        }
      },
      "source": [
        "car.head()"
      ],
      "execution_count": null,
      "outputs": [
        {
          "output_type": "execute_result",
          "data": {
            "text/html": [
              "<div>\n",
              "<style scoped>\n",
              "    .dataframe tbody tr th:only-of-type {\n",
              "        vertical-align: middle;\n",
              "    }\n",
              "\n",
              "    .dataframe tbody tr th {\n",
              "        vertical-align: top;\n",
              "    }\n",
              "\n",
              "    .dataframe thead th {\n",
              "        text-align: right;\n",
              "    }\n",
              "</style>\n",
              "<table border=\"1\" class=\"dataframe\">\n",
              "  <thead>\n",
              "    <tr style=\"text-align: right;\">\n",
              "      <th></th>\n",
              "      <th>name</th>\n",
              "      <th>year</th>\n",
              "      <th>selling_price</th>\n",
              "      <th>km_driven</th>\n",
              "      <th>fuel</th>\n",
              "      <th>seller_type</th>\n",
              "      <th>transmission</th>\n",
              "      <th>owner</th>\n",
              "      <th>selling_price_1</th>\n",
              "      <th>Present_Price</th>\n",
              "    </tr>\n",
              "  </thead>\n",
              "  <tbody>\n",
              "    <tr>\n",
              "      <th>0</th>\n",
              "      <td>Maruti 800 AC</td>\n",
              "      <td>2007</td>\n",
              "      <td>60000.0</td>\n",
              "      <td>70000</td>\n",
              "      <td>Petrol</td>\n",
              "      <td>Individual</td>\n",
              "      <td>Manual</td>\n",
              "      <td>First Owner</td>\n",
              "      <td>0.60</td>\n",
              "      <td>NaN</td>\n",
              "    </tr>\n",
              "    <tr>\n",
              "      <th>1</th>\n",
              "      <td>Maruti Wagon R LXI Minor</td>\n",
              "      <td>2007</td>\n",
              "      <td>135000.0</td>\n",
              "      <td>50000</td>\n",
              "      <td>Petrol</td>\n",
              "      <td>Individual</td>\n",
              "      <td>Manual</td>\n",
              "      <td>First Owner</td>\n",
              "      <td>1.35</td>\n",
              "      <td>NaN</td>\n",
              "    </tr>\n",
              "    <tr>\n",
              "      <th>2</th>\n",
              "      <td>Hyundai Verna 1.6 SX</td>\n",
              "      <td>2012</td>\n",
              "      <td>600000.0</td>\n",
              "      <td>100000</td>\n",
              "      <td>Diesel</td>\n",
              "      <td>Individual</td>\n",
              "      <td>Manual</td>\n",
              "      <td>First Owner</td>\n",
              "      <td>6.00</td>\n",
              "      <td>NaN</td>\n",
              "    </tr>\n",
              "    <tr>\n",
              "      <th>3</th>\n",
              "      <td>Datsun RediGO T Option</td>\n",
              "      <td>2017</td>\n",
              "      <td>250000.0</td>\n",
              "      <td>46000</td>\n",
              "      <td>Petrol</td>\n",
              "      <td>Individual</td>\n",
              "      <td>Manual</td>\n",
              "      <td>First Owner</td>\n",
              "      <td>2.50</td>\n",
              "      <td>NaN</td>\n",
              "    </tr>\n",
              "    <tr>\n",
              "      <th>4</th>\n",
              "      <td>Honda Amaze VX i-DTEC</td>\n",
              "      <td>2014</td>\n",
              "      <td>450000.0</td>\n",
              "      <td>141000</td>\n",
              "      <td>Diesel</td>\n",
              "      <td>Individual</td>\n",
              "      <td>Manual</td>\n",
              "      <td>Second Owner</td>\n",
              "      <td>4.50</td>\n",
              "      <td>NaN</td>\n",
              "    </tr>\n",
              "  </tbody>\n",
              "</table>\n",
              "</div>"
            ],
            "text/plain": [
              "                       name  year  ...  selling_price_1  Present_Price\n",
              "0             Maruti 800 AC  2007  ...             0.60            NaN\n",
              "1  Maruti Wagon R LXI Minor  2007  ...             1.35            NaN\n",
              "2      Hyundai Verna 1.6 SX  2012  ...             6.00            NaN\n",
              "3    Datsun RediGO T Option  2017  ...             2.50            NaN\n",
              "4     Honda Amaze VX i-DTEC  2014  ...             4.50            NaN\n",
              "\n",
              "[5 rows x 10 columns]"
            ]
          },
          "metadata": {
            "tags": []
          },
          "execution_count": 690
        }
      ]
    },
    {
      "cell_type": "code",
      "metadata": {
        "id": "GPcLwGWhzvuU"
      },
      "source": [
        "car.reset_index(drop=True, inplace=True)"
      ],
      "execution_count": null,
      "outputs": []
    },
    {
      "cell_type": "code",
      "metadata": {
        "id": "DNyLjA-nJfqi"
      },
      "source": [
        "#dropping selling_price column\n",
        "car.drop(['selling_price'] , axis=1 , inplace=True)"
      ],
      "execution_count": null,
      "outputs": []
    },
    {
      "cell_type": "code",
      "metadata": {
        "id": "E29zXpxyltev",
        "outputId": "d27a5dc6-563e-4c73-b754-ee557b38cdcc",
        "colab": {
          "base_uri": "https://localhost:8080/"
        }
      },
      "source": [
        "car.tail()"
      ],
      "execution_count": null,
      "outputs": [
        {
          "output_type": "execute_result",
          "data": {
            "text/html": [
              "<div>\n",
              "<style scoped>\n",
              "    .dataframe tbody tr th:only-of-type {\n",
              "        vertical-align: middle;\n",
              "    }\n",
              "\n",
              "    .dataframe tbody tr th {\n",
              "        vertical-align: top;\n",
              "    }\n",
              "\n",
              "    .dataframe thead th {\n",
              "        text-align: right;\n",
              "    }\n",
              "</style>\n",
              "<table border=\"1\" class=\"dataframe\">\n",
              "  <thead>\n",
              "    <tr style=\"text-align: right;\">\n",
              "      <th></th>\n",
              "      <th>name</th>\n",
              "      <th>year</th>\n",
              "      <th>km_driven</th>\n",
              "      <th>fuel</th>\n",
              "      <th>seller_type</th>\n",
              "      <th>transmission</th>\n",
              "      <th>owner</th>\n",
              "      <th>selling_price_1</th>\n",
              "      <th>Present_Price</th>\n",
              "    </tr>\n",
              "  </thead>\n",
              "  <tbody>\n",
              "    <tr>\n",
              "      <th>4636</th>\n",
              "      <td>city</td>\n",
              "      <td>2016</td>\n",
              "      <td>33988</td>\n",
              "      <td>Diesel</td>\n",
              "      <td>Dealer</td>\n",
              "      <td>Manual</td>\n",
              "      <td>Second Owner</td>\n",
              "      <td>9.50</td>\n",
              "      <td>11.6</td>\n",
              "    </tr>\n",
              "    <tr>\n",
              "      <th>4637</th>\n",
              "      <td>brio</td>\n",
              "      <td>2015</td>\n",
              "      <td>60000</td>\n",
              "      <td>Petrol</td>\n",
              "      <td>Dealer</td>\n",
              "      <td>Manual</td>\n",
              "      <td>Second Owner</td>\n",
              "      <td>4.00</td>\n",
              "      <td>5.9</td>\n",
              "    </tr>\n",
              "    <tr>\n",
              "      <th>4638</th>\n",
              "      <td>city</td>\n",
              "      <td>2009</td>\n",
              "      <td>87934</td>\n",
              "      <td>Petrol</td>\n",
              "      <td>Dealer</td>\n",
              "      <td>Manual</td>\n",
              "      <td>Second Owner</td>\n",
              "      <td>3.35</td>\n",
              "      <td>11.0</td>\n",
              "    </tr>\n",
              "    <tr>\n",
              "      <th>4639</th>\n",
              "      <td>city</td>\n",
              "      <td>2017</td>\n",
              "      <td>9000</td>\n",
              "      <td>Diesel</td>\n",
              "      <td>Dealer</td>\n",
              "      <td>Manual</td>\n",
              "      <td>Second Owner</td>\n",
              "      <td>11.50</td>\n",
              "      <td>12.5</td>\n",
              "    </tr>\n",
              "    <tr>\n",
              "      <th>4640</th>\n",
              "      <td>brio</td>\n",
              "      <td>2016</td>\n",
              "      <td>5464</td>\n",
              "      <td>Petrol</td>\n",
              "      <td>Dealer</td>\n",
              "      <td>Manual</td>\n",
              "      <td>Second Owner</td>\n",
              "      <td>5.30</td>\n",
              "      <td>5.9</td>\n",
              "    </tr>\n",
              "  </tbody>\n",
              "</table>\n",
              "</div>"
            ],
            "text/plain": [
              "      name  year  km_driven  ...         owner selling_price_1 Present_Price\n",
              "4636  city  2016      33988  ...  Second Owner            9.50          11.6\n",
              "4637  brio  2015      60000  ...  Second Owner            4.00           5.9\n",
              "4638  city  2009      87934  ...  Second Owner            3.35          11.0\n",
              "4639  city  2017       9000  ...  Second Owner           11.50          12.5\n",
              "4640  brio  2016       5464  ...  Second Owner            5.30           5.9\n",
              "\n",
              "[5 rows x 9 columns]"
            ]
          },
          "metadata": {
            "tags": []
          },
          "execution_count": 693
        }
      ]
    },
    {
      "cell_type": "markdown",
      "metadata": {
        "id": "W_1yGKRDwwEM"
      },
      "source": [
        "#**8. Finding & Removing Outliers (if any)**"
      ]
    },
    {
      "cell_type": "code",
      "metadata": {
        "id": "3lZxYEEOzxsx",
        "outputId": "89712f26-c25f-484d-f73e-d8b5aa95e3cc",
        "colab": {
          "base_uri": "https://localhost:8080/",
          "height": 293
        }
      },
      "source": [
        "# Box Plot to check outliers\n",
        "sns.boxplot(car['selling_price_1'])"
      ],
      "execution_count": null,
      "outputs": [
        {
          "output_type": "execute_result",
          "data": {
            "text/plain": [
              "<matplotlib.axes._subplots.AxesSubplot at 0x7fd22f990c50>"
            ]
          },
          "metadata": {
            "tags": []
          },
          "execution_count": 694
        },
        {
          "output_type": "display_data",
          "data": {
            "image/png": "[encoded data removed]",
            "text/plain": [
              "<Figure size 432x288 with 1 Axes>"
            ]
          },
          "metadata": {
            "tags": [],
            "needs_background": "light"
          }
        }
      ]
    },
    {
      "cell_type": "code",
      "metadata": {
        "id": "l2wAhfKRzxjX"
      },
      "source": [
        "#Calculating z-score\n",
        "z = np.abs(stats.zscore(car['selling_price_1']))"
      ],
      "execution_count": null,
      "outputs": []
    },
    {
      "cell_type": "code",
      "metadata": {
        "id": "Bopc1Joy5eTK"
      },
      "source": [
        "#Removing rows where z>10 .\n",
        "car = car.drop(index=[89,3872])\n",
        "car = car.drop(index=[3967])"
      ],
      "execution_count": null,
      "outputs": []
    },
    {
      "cell_type": "markdown",
      "metadata": {
        "id": "qExe7RiqwIe7"
      },
      "source": [
        "Although the threshold is practiced to be in between z=3 or z=-3 , we take z=10 due to the less availability of data and to remove the outliers visualised in the box plot ."
      ]
    },
    {
      "cell_type": "code",
      "metadata": {
        "id": "-_O4XD_qOz5i",
        "outputId": "4c49d650-fd98-4034-e9fe-898e572b7357",
        "colab": {
          "base_uri": "https://localhost:8080/",
          "height": 126
        }
      },
      "source": [
        "car['fuel'].value_counts()"
      ],
      "execution_count": null,
      "outputs": [
        {
          "output_type": "execute_result",
          "data": {
            "text/plain": [
              "Petrol      2361\n",
              "Diesel      2211\n",
              "CNG           42\n",
              "LPG           23\n",
              "Electric       1\n",
              "Name: fuel, dtype: int64"
            ]
          },
          "metadata": {
            "tags": []
          },
          "execution_count": 697
        }
      ]
    },
    {
      "cell_type": "code",
      "metadata": {
        "id": "5zXc8ZzvPD9x",
        "outputId": "a2c550cc-1349-41ff-8aa0-0ea02c4821aa",
        "colab": {
          "base_uri": "https://localhost:8080/",
          "height": 78
        }
      },
      "source": [
        "car[car['fuel']=='Electric']"
      ],
      "execution_count": null,
      "outputs": [
        {
          "output_type": "execute_result",
          "data": {
            "text/html": [
              "<div>\n",
              "<style scoped>\n",
              "    .dataframe tbody tr th:only-of-type {\n",
              "        vertical-align: middle;\n",
              "    }\n",
              "\n",
              "    .dataframe tbody tr th {\n",
              "        vertical-align: top;\n",
              "    }\n",
              "\n",
              "    .dataframe thead th {\n",
              "        text-align: right;\n",
              "    }\n",
              "</style>\n",
              "<table border=\"1\" class=\"dataframe\">\n",
              "  <thead>\n",
              "    <tr style=\"text-align: right;\">\n",
              "      <th></th>\n",
              "      <th>name</th>\n",
              "      <th>year</th>\n",
              "      <th>km_driven</th>\n",
              "      <th>fuel</th>\n",
              "      <th>seller_type</th>\n",
              "      <th>transmission</th>\n",
              "      <th>owner</th>\n",
              "      <th>selling_price_1</th>\n",
              "      <th>Present_Price</th>\n",
              "    </tr>\n",
              "  </thead>\n",
              "  <tbody>\n",
              "    <tr>\n",
              "      <th>4145</th>\n",
              "      <td>Toyota Camry Hybrid</td>\n",
              "      <td>2006</td>\n",
              "      <td>62000</td>\n",
              "      <td>Electric</td>\n",
              "      <td>Dealer</td>\n",
              "      <td>Automatic</td>\n",
              "      <td>Second Owner</td>\n",
              "      <td>3.1</td>\n",
              "      <td>NaN</td>\n",
              "    </tr>\n",
              "  </tbody>\n",
              "</table>\n",
              "</div>"
            ],
            "text/plain": [
              "                     name  year  ...  selling_price_1 Present_Price\n",
              "4145  Toyota Camry Hybrid  2006  ...              3.1           NaN\n",
              "\n",
              "[1 rows x 9 columns]"
            ]
          },
          "metadata": {
            "tags": []
          },
          "execution_count": 698
        }
      ]
    },
    {
      "cell_type": "markdown",
      "metadata": {
        "id": "YppsiBARxE_5"
      },
      "source": [
        "Since there is only one data point where `fuel = 'Electric'` , therefore dropping the row to decrease the noise in the dataset"
      ]
    },
    {
      "cell_type": "code",
      "metadata": {
        "id": "B_ZbzvZuPTJ_",
        "outputId": "d08da337-b778-46c6-ff31-c0cfea60255a",
        "colab": {
          "base_uri": "https://localhost:8080/",
          "height": 78
        }
      },
      "source": [
        "car.drop(car.index[4145],inplace=True)\n",
        "car[car['fuel']=='Electric']"
      ],
      "execution_count": null,
      "outputs": [
        {
          "output_type": "execute_result",
          "data": {
            "text/html": [
              "<div>\n",
              "<style scoped>\n",
              "    .dataframe tbody tr th:only-of-type {\n",
              "        vertical-align: middle;\n",
              "    }\n",
              "\n",
              "    .dataframe tbody tr th {\n",
              "        vertical-align: top;\n",
              "    }\n",
              "\n",
              "    .dataframe thead th {\n",
              "        text-align: right;\n",
              "    }\n",
              "</style>\n",
              "<table border=\"1\" class=\"dataframe\">\n",
              "  <thead>\n",
              "    <tr style=\"text-align: right;\">\n",
              "      <th></th>\n",
              "      <th>name</th>\n",
              "      <th>year</th>\n",
              "      <th>km_driven</th>\n",
              "      <th>fuel</th>\n",
              "      <th>seller_type</th>\n",
              "      <th>transmission</th>\n",
              "      <th>owner</th>\n",
              "      <th>selling_price_1</th>\n",
              "      <th>Present_Price</th>\n",
              "    </tr>\n",
              "  </thead>\n",
              "  <tbody>\n",
              "    <tr>\n",
              "      <th>4145</th>\n",
              "      <td>Toyota Camry Hybrid</td>\n",
              "      <td>2006</td>\n",
              "      <td>62000</td>\n",
              "      <td>Electric</td>\n",
              "      <td>Dealer</td>\n",
              "      <td>Automatic</td>\n",
              "      <td>Second Owner</td>\n",
              "      <td>3.1</td>\n",
              "      <td>NaN</td>\n",
              "    </tr>\n",
              "  </tbody>\n",
              "</table>\n",
              "</div>"
            ],
            "text/plain": [
              "                     name  year  ...  selling_price_1 Present_Price\n",
              "4145  Toyota Camry Hybrid  2006  ...              3.1           NaN\n",
              "\n",
              "[1 rows x 9 columns]"
            ]
          },
          "metadata": {
            "tags": []
          },
          "execution_count": 699
        }
      ]
    },
    {
      "cell_type": "code",
      "metadata": {
        "id": "s8pZwJnPrI61",
        "outputId": "4c7c45c4-8b4f-4a6b-ae47-f0d40f8a3264",
        "colab": {
          "base_uri": "https://localhost:8080/",
          "height": 35
        }
      },
      "source": [
        "car.shape"
      ],
      "execution_count": null,
      "outputs": [
        {
          "output_type": "execute_result",
          "data": {
            "text/plain": [
              "(4637, 9)"
            ]
          },
          "metadata": {
            "tags": []
          },
          "execution_count": 700
        }
      ]
    },
    {
      "cell_type": "markdown",
      "metadata": {
        "id": "eGXscGMFw9VA"
      },
      "source": [
        "The number of rows decreased , therefore we conclude that the outliers with z-score > 10 have been removed\n"
      ]
    },
    {
      "cell_type": "markdown",
      "metadata": {
        "id": "Rg6dFJh6xKP0"
      },
      "source": [
        "#**9. Finding and Visualising Mising Values Patterns**"
      ]
    },
    {
      "cell_type": "code",
      "metadata": {
        "id": "yYoIicurzCGc",
        "outputId": "e00437ac-b9f1-423e-f7ef-a94f8e0af360",
        "colab": {
          "base_uri": "https://localhost:8080/",
          "height": 199
        }
      },
      "source": [
        "car.isnull().sum()"
      ],
      "execution_count": null,
      "outputs": [
        {
          "output_type": "execute_result",
          "data": {
            "text/plain": [
              "name                  0\n",
              "year                  0\n",
              "km_driven             0\n",
              "fuel                  0\n",
              "seller_type           0\n",
              "transmission          0\n",
              "owner                 0\n",
              "selling_price_1       0\n",
              "Present_Price      4336\n",
              "dtype: int64"
            ]
          },
          "metadata": {
            "tags": []
          },
          "execution_count": 701
        }
      ]
    },
    {
      "cell_type": "code",
      "metadata": {
        "id": "1jhAqMgJxk_M",
        "outputId": "2be957cd-c102-4c36-8a48-256c8c5638de",
        "colab": {
          "base_uri": "https://localhost:8080/",
          "height": 311
        }
      },
      "source": [
        "# Visualising Missing value pattern from heatmap\n",
        "sns.heatmap(car.isnull(), cbar=False)\n",
        "plt.show()"
      ],
      "execution_count": null,
      "outputs": [
        {
          "output_type": "display_data",
          "data": {
            "image/png": "[encoded data removed]",
            "text/plain": [
              "<Figure size 432x288 with 1 Axes>"
            ]
          },
          "metadata": {
            "tags": [],
            "needs_background": "light"
          }
        }
      ]
    },
    {
      "cell_type": "markdown",
      "metadata": {
        "id": "36LoI1Ef-V0-"
      },
      "source": [
        "# **10. Filling Values using different techniques**"
      ]
    },
    {
      "cell_type": "markdown",
      "metadata": {
        "id": "IIxwOTFj28eX"
      },
      "source": [
        "## 1.Filling values using Statistical Imputation (Median)"
      ]
    },
    {
      "cell_type": "code",
      "metadata": {
        "id": "jy45FJ7l2huG",
        "outputId": "f3722b94-2dec-4d9e-8c8a-b60ccf4021fd",
        "colab": {
          "base_uri": "https://localhost:8080/",
          "height": 198
        }
      },
      "source": [
        "# Filling Missing values by median\n",
        "median = car['Present_Price'].median()\n",
        "final_car_median = car.copy()\n",
        "final_car_median['Present_Price'] = final_car_median['Present_Price'].fillna(median)\n",
        "final_car_median.head()"
      ],
      "execution_count": null,
      "outputs": [
        {
          "output_type": "execute_result",
          "data": {
            "text/html": [
              "<div>\n",
              "<style scoped>\n",
              "    .dataframe tbody tr th:only-of-type {\n",
              "        vertical-align: middle;\n",
              "    }\n",
              "\n",
              "    .dataframe tbody tr th {\n",
              "        vertical-align: top;\n",
              "    }\n",
              "\n",
              "    .dataframe thead th {\n",
              "        text-align: right;\n",
              "    }\n",
              "</style>\n",
              "<table border=\"1\" class=\"dataframe\">\n",
              "  <thead>\n",
              "    <tr style=\"text-align: right;\">\n",
              "      <th></th>\n",
              "      <th>name</th>\n",
              "      <th>year</th>\n",
              "      <th>km_driven</th>\n",
              "      <th>fuel</th>\n",
              "      <th>seller_type</th>\n",
              "      <th>transmission</th>\n",
              "      <th>owner</th>\n",
              "      <th>selling_price_1</th>\n",
              "      <th>Present_Price</th>\n",
              "    </tr>\n",
              "  </thead>\n",
              "  <tbody>\n",
              "    <tr>\n",
              "      <th>0</th>\n",
              "      <td>Maruti 800 AC</td>\n",
              "      <td>2007</td>\n",
              "      <td>70000</td>\n",
              "      <td>Petrol</td>\n",
              "      <td>Individual</td>\n",
              "      <td>Manual</td>\n",
              "      <td>First Owner</td>\n",
              "      <td>0.60</td>\n",
              "      <td>6.4</td>\n",
              "    </tr>\n",
              "    <tr>\n",
              "      <th>1</th>\n",
              "      <td>Maruti Wagon R LXI Minor</td>\n",
              "      <td>2007</td>\n",
              "      <td>50000</td>\n",
              "      <td>Petrol</td>\n",
              "      <td>Individual</td>\n",
              "      <td>Manual</td>\n",
              "      <td>First Owner</td>\n",
              "      <td>1.35</td>\n",
              "      <td>6.4</td>\n",
              "    </tr>\n",
              "    <tr>\n",
              "      <th>2</th>\n",
              "      <td>Hyundai Verna 1.6 SX</td>\n",
              "      <td>2012</td>\n",
              "      <td>100000</td>\n",
              "      <td>Diesel</td>\n",
              "      <td>Individual</td>\n",
              "      <td>Manual</td>\n",
              "      <td>First Owner</td>\n",
              "      <td>6.00</td>\n",
              "      <td>6.4</td>\n",
              "    </tr>\n",
              "    <tr>\n",
              "      <th>3</th>\n",
              "      <td>Datsun RediGO T Option</td>\n",
              "      <td>2017</td>\n",
              "      <td>46000</td>\n",
              "      <td>Petrol</td>\n",
              "      <td>Individual</td>\n",
              "      <td>Manual</td>\n",
              "      <td>First Owner</td>\n",
              "      <td>2.50</td>\n",
              "      <td>6.4</td>\n",
              "    </tr>\n",
              "    <tr>\n",
              "      <th>4</th>\n",
              "      <td>Honda Amaze VX i-DTEC</td>\n",
              "      <td>2014</td>\n",
              "      <td>141000</td>\n",
              "      <td>Diesel</td>\n",
              "      <td>Individual</td>\n",
              "      <td>Manual</td>\n",
              "      <td>Second Owner</td>\n",
              "      <td>4.50</td>\n",
              "      <td>6.4</td>\n",
              "    </tr>\n",
              "  </tbody>\n",
              "</table>\n",
              "</div>"
            ],
            "text/plain": [
              "                       name  year  ...  selling_price_1 Present_Price\n",
              "0             Maruti 800 AC  2007  ...             0.60           6.4\n",
              "1  Maruti Wagon R LXI Minor  2007  ...             1.35           6.4\n",
              "2      Hyundai Verna 1.6 SX  2012  ...             6.00           6.4\n",
              "3    Datsun RediGO T Option  2017  ...             2.50           6.4\n",
              "4     Honda Amaze VX i-DTEC  2014  ...             4.50           6.4\n",
              "\n",
              "[5 rows x 9 columns]"
            ]
          },
          "metadata": {
            "tags": []
          },
          "execution_count": 703
        }
      ]
    },
    {
      "cell_type": "code",
      "metadata": {
        "id": "KtaJt1_G3MlE",
        "outputId": "49827bb1-8841-42ea-9765-c707a66402b7",
        "colab": {
          "base_uri": "https://localhost:8080/",
          "height": 199
        }
      },
      "source": [
        "final_car_median.isnull().sum()"
      ],
      "execution_count": null,
      "outputs": [
        {
          "output_type": "execute_result",
          "data": {
            "text/plain": [
              "name               0\n",
              "year               0\n",
              "km_driven          0\n",
              "fuel               0\n",
              "seller_type        0\n",
              "transmission       0\n",
              "owner              0\n",
              "selling_price_1    0\n",
              "Present_Price      0\n",
              "dtype: int64"
            ]
          },
          "metadata": {
            "tags": []
          },
          "execution_count": 704
        }
      ]
    },
    {
      "cell_type": "markdown",
      "metadata": {
        "id": "ojcU3wTh6F2e"
      },
      "source": [
        "## 2.Filling values using Regression Imputation Algorithm\n",
        "\n",
        "\n",
        "\n"
      ]
    },
    {
      "cell_type": "code",
      "metadata": {
        "id": "naBiI9xQ0bS0",
        "outputId": "20be1b8c-6f51-44ce-aec4-761d137dfbef",
        "colab": {
          "base_uri": "https://localhost:8080/",
          "height": 198
        }
      },
      "source": [
        "car_model_1 = car.copy()\n",
        "car_model_1.head()"
      ],
      "execution_count": null,
      "outputs": [
        {
          "output_type": "execute_result",
          "data": {
            "text/html": [
              "<div>\n",
              "<style scoped>\n",
              "    .dataframe tbody tr th:only-of-type {\n",
              "        vertical-align: middle;\n",
              "    }\n",
              "\n",
              "    .dataframe tbody tr th {\n",
              "        vertical-align: top;\n",
              "    }\n",
              "\n",
              "    .dataframe thead th {\n",
              "        text-align: right;\n",
              "    }\n",
              "</style>\n",
              "<table border=\"1\" class=\"dataframe\">\n",
              "  <thead>\n",
              "    <tr style=\"text-align: right;\">\n",
              "      <th></th>\n",
              "      <th>name</th>\n",
              "      <th>year</th>\n",
              "      <th>km_driven</th>\n",
              "      <th>fuel</th>\n",
              "      <th>seller_type</th>\n",
              "      <th>transmission</th>\n",
              "      <th>owner</th>\n",
              "      <th>selling_price_1</th>\n",
              "      <th>Present_Price</th>\n",
              "    </tr>\n",
              "  </thead>\n",
              "  <tbody>\n",
              "    <tr>\n",
              "      <th>0</th>\n",
              "      <td>Maruti 800 AC</td>\n",
              "      <td>2007</td>\n",
              "      <td>70000</td>\n",
              "      <td>Petrol</td>\n",
              "      <td>Individual</td>\n",
              "      <td>Manual</td>\n",
              "      <td>First Owner</td>\n",
              "      <td>0.60</td>\n",
              "      <td>NaN</td>\n",
              "    </tr>\n",
              "    <tr>\n",
              "      <th>1</th>\n",
              "      <td>Maruti Wagon R LXI Minor</td>\n",
              "      <td>2007</td>\n",
              "      <td>50000</td>\n",
              "      <td>Petrol</td>\n",
              "      <td>Individual</td>\n",
              "      <td>Manual</td>\n",
              "      <td>First Owner</td>\n",
              "      <td>1.35</td>\n",
              "      <td>NaN</td>\n",
              "    </tr>\n",
              "    <tr>\n",
              "      <th>2</th>\n",
              "      <td>Hyundai Verna 1.6 SX</td>\n",
              "      <td>2012</td>\n",
              "      <td>100000</td>\n",
              "      <td>Diesel</td>\n",
              "      <td>Individual</td>\n",
              "      <td>Manual</td>\n",
              "      <td>First Owner</td>\n",
              "      <td>6.00</td>\n",
              "      <td>NaN</td>\n",
              "    </tr>\n",
              "    <tr>\n",
              "      <th>3</th>\n",
              "      <td>Datsun RediGO T Option</td>\n",
              "      <td>2017</td>\n",
              "      <td>46000</td>\n",
              "      <td>Petrol</td>\n",
              "      <td>Individual</td>\n",
              "      <td>Manual</td>\n",
              "      <td>First Owner</td>\n",
              "      <td>2.50</td>\n",
              "      <td>NaN</td>\n",
              "    </tr>\n",
              "    <tr>\n",
              "      <th>4</th>\n",
              "      <td>Honda Amaze VX i-DTEC</td>\n",
              "      <td>2014</td>\n",
              "      <td>141000</td>\n",
              "      <td>Diesel</td>\n",
              "      <td>Individual</td>\n",
              "      <td>Manual</td>\n",
              "      <td>Second Owner</td>\n",
              "      <td>4.50</td>\n",
              "      <td>NaN</td>\n",
              "    </tr>\n",
              "  </tbody>\n",
              "</table>\n",
              "</div>"
            ],
            "text/plain": [
              "                       name  year  ...  selling_price_1 Present_Price\n",
              "0             Maruti 800 AC  2007  ...             0.60           NaN\n",
              "1  Maruti Wagon R LXI Minor  2007  ...             1.35           NaN\n",
              "2      Hyundai Verna 1.6 SX  2012  ...             6.00           NaN\n",
              "3    Datsun RediGO T Option  2017  ...             2.50           NaN\n",
              "4     Honda Amaze VX i-DTEC  2014  ...             4.50           NaN\n",
              "\n",
              "[5 rows x 9 columns]"
            ]
          },
          "metadata": {
            "tags": []
          },
          "execution_count": 705
        }
      ]
    },
    {
      "cell_type": "code",
      "metadata": {
        "id": "URr1upamx3lY",
        "outputId": "20664e40-5794-4455-eae9-74292c143f97",
        "colab": {
          "base_uri": "https://localhost:8080/",
          "height": 253
        }
      },
      "source": [
        "# Perform One Hot Encoding on Categorical Data\n",
        "categorial = ['fuel' , 'seller_type' , 'transmission' , 'owner']\n",
        "car_model_1 = pd.get_dummies(car_model_1, columns=categorial, drop_first=True)\n",
        "car_model_1.drop(['name'] , axis=1 , inplace=True)\n",
        "car_model_1.head()"
      ],
      "execution_count": null,
      "outputs": [
        {
          "output_type": "execute_result",
          "data": {
            "text/html": [
              "<div>\n",
              "<style scoped>\n",
              "    .dataframe tbody tr th:only-of-type {\n",
              "        vertical-align: middle;\n",
              "    }\n",
              "\n",
              "    .dataframe tbody tr th {\n",
              "        vertical-align: top;\n",
              "    }\n",
              "\n",
              "    .dataframe thead th {\n",
              "        text-align: right;\n",
              "    }\n",
              "</style>\n",
              "<table border=\"1\" class=\"dataframe\">\n",
              "  <thead>\n",
              "    <tr style=\"text-align: right;\">\n",
              "      <th></th>\n",
              "      <th>year</th>\n",
              "      <th>km_driven</th>\n",
              "      <th>selling_price_1</th>\n",
              "      <th>Present_Price</th>\n",
              "      <th>fuel_Diesel</th>\n",
              "      <th>fuel_Electric</th>\n",
              "      <th>fuel_LPG</th>\n",
              "      <th>fuel_Petrol</th>\n",
              "      <th>seller_type_Individual</th>\n",
              "      <th>seller_type_Trustmark Dealer</th>\n",
              "      <th>transmission_Manual</th>\n",
              "      <th>owner_Fourth &amp; Above Owner</th>\n",
              "      <th>owner_Second Owner</th>\n",
              "      <th>owner_Test Drive Car</th>\n",
              "      <th>owner_Third Owner</th>\n",
              "    </tr>\n",
              "  </thead>\n",
              "  <tbody>\n",
              "    <tr>\n",
              "      <th>0</th>\n",
              "      <td>2007</td>\n",
              "      <td>70000</td>\n",
              "      <td>0.60</td>\n",
              "      <td>NaN</td>\n",
              "      <td>0</td>\n",
              "      <td>0</td>\n",
              "      <td>0</td>\n",
              "      <td>1</td>\n",
              "      <td>1</td>\n",
              "      <td>0</td>\n",
              "      <td>1</td>\n",
              "      <td>0</td>\n",
              "      <td>0</td>\n",
              "      <td>0</td>\n",
              "      <td>0</td>\n",
              "    </tr>\n",
              "    <tr>\n",
              "      <th>1</th>\n",
              "      <td>2007</td>\n",
              "      <td>50000</td>\n",
              "      <td>1.35</td>\n",
              "      <td>NaN</td>\n",
              "      <td>0</td>\n",
              "      <td>0</td>\n",
              "      <td>0</td>\n",
              "      <td>1</td>\n",
              "      <td>1</td>\n",
              "      <td>0</td>\n",
              "      <td>1</td>\n",
              "      <td>0</td>\n",
              "      <td>0</td>\n",
              "      <td>0</td>\n",
              "      <td>0</td>\n",
              "    </tr>\n",
              "    <tr>\n",
              "      <th>2</th>\n",
              "      <td>2012</td>\n",
              "      <td>100000</td>\n",
              "      <td>6.00</td>\n",
              "      <td>NaN</td>\n",
              "      <td>1</td>\n",
              "      <td>0</td>\n",
              "      <td>0</td>\n",
              "      <td>0</td>\n",
              "      <td>1</td>\n",
              "      <td>0</td>\n",
              "      <td>1</td>\n",
              "      <td>0</td>\n",
              "      <td>0</td>\n",
              "      <td>0</td>\n",
              "      <td>0</td>\n",
              "    </tr>\n",
              "    <tr>\n",
              "      <th>3</th>\n",
              "      <td>2017</td>\n",
              "      <td>46000</td>\n",
              "      <td>2.50</td>\n",
              "      <td>NaN</td>\n",
              "      <td>0</td>\n",
              "      <td>0</td>\n",
              "      <td>0</td>\n",
              "      <td>1</td>\n",
              "      <td>1</td>\n",
              "      <td>0</td>\n",
              "      <td>1</td>\n",
              "      <td>0</td>\n",
              "      <td>0</td>\n",
              "      <td>0</td>\n",
              "      <td>0</td>\n",
              "    </tr>\n",
              "    <tr>\n",
              "      <th>4</th>\n",
              "      <td>2014</td>\n",
              "      <td>141000</td>\n",
              "      <td>4.50</td>\n",
              "      <td>NaN</td>\n",
              "      <td>1</td>\n",
              "      <td>0</td>\n",
              "      <td>0</td>\n",
              "      <td>0</td>\n",
              "      <td>1</td>\n",
              "      <td>0</td>\n",
              "      <td>1</td>\n",
              "      <td>0</td>\n",
              "      <td>1</td>\n",
              "      <td>0</td>\n",
              "      <td>0</td>\n",
              "    </tr>\n",
              "  </tbody>\n",
              "</table>\n",
              "</div>"
            ],
            "text/plain": [
              "   year  km_driven  ...  owner_Test Drive Car  owner_Third Owner\n",
              "0  2007      70000  ...                     0                  0\n",
              "1  2007      50000  ...                     0                  0\n",
              "2  2012     100000  ...                     0                  0\n",
              "3  2017      46000  ...                     0                  0\n",
              "4  2014     141000  ...                     0                  0\n",
              "\n",
              "[5 rows x 15 columns]"
            ]
          },
          "metadata": {
            "tags": []
          },
          "execution_count": 706
        }
      ]
    },
    {
      "cell_type": "code",
      "metadata": {
        "id": "3doDtiWoz87B"
      },
      "source": [
        "from sklearn.linear_model import LinearRegression\n",
        "np.random.seed(42)\n",
        "test_data = car_model_1[car_model_1['Present_Price'].isnull()]\n",
        "car_model_1.dropna(inplace=True)"
      ],
      "execution_count": null,
      "outputs": []
    },
    {
      "cell_type": "code",
      "metadata": {
        "id": "SvA8B31Uz9PD",
        "outputId": "fb51a672-a46f-47b9-fca0-1d401cf16bf1",
        "colab": {
          "base_uri": "https://localhost:8080/",
          "height": 253
        }
      },
      "source": [
        "car_model_1.head()"
      ],
      "execution_count": null,
      "outputs": [
        {
          "output_type": "execute_result",
          "data": {
            "text/html": [
              "<div>\n",
              "<style scoped>\n",
              "    .dataframe tbody tr th:only-of-type {\n",
              "        vertical-align: middle;\n",
              "    }\n",
              "\n",
              "    .dataframe tbody tr th {\n",
              "        vertical-align: top;\n",
              "    }\n",
              "\n",
              "    .dataframe thead th {\n",
              "        text-align: right;\n",
              "    }\n",
              "</style>\n",
              "<table border=\"1\" class=\"dataframe\">\n",
              "  <thead>\n",
              "    <tr style=\"text-align: right;\">\n",
              "      <th></th>\n",
              "      <th>year</th>\n",
              "      <th>km_driven</th>\n",
              "      <th>selling_price_1</th>\n",
              "      <th>Present_Price</th>\n",
              "      <th>fuel_Diesel</th>\n",
              "      <th>fuel_Electric</th>\n",
              "      <th>fuel_LPG</th>\n",
              "      <th>fuel_Petrol</th>\n",
              "      <th>seller_type_Individual</th>\n",
              "      <th>seller_type_Trustmark Dealer</th>\n",
              "      <th>transmission_Manual</th>\n",
              "      <th>owner_Fourth &amp; Above Owner</th>\n",
              "      <th>owner_Second Owner</th>\n",
              "      <th>owner_Test Drive Car</th>\n",
              "      <th>owner_Third Owner</th>\n",
              "    </tr>\n",
              "  </thead>\n",
              "  <tbody>\n",
              "    <tr>\n",
              "      <th>4340</th>\n",
              "      <td>2014</td>\n",
              "      <td>27000</td>\n",
              "      <td>3.35</td>\n",
              "      <td>5.59</td>\n",
              "      <td>0</td>\n",
              "      <td>0</td>\n",
              "      <td>0</td>\n",
              "      <td>1</td>\n",
              "      <td>0</td>\n",
              "      <td>0</td>\n",
              "      <td>1</td>\n",
              "      <td>0</td>\n",
              "      <td>1</td>\n",
              "      <td>0</td>\n",
              "      <td>0</td>\n",
              "    </tr>\n",
              "    <tr>\n",
              "      <th>4341</th>\n",
              "      <td>2013</td>\n",
              "      <td>43000</td>\n",
              "      <td>4.75</td>\n",
              "      <td>9.54</td>\n",
              "      <td>1</td>\n",
              "      <td>0</td>\n",
              "      <td>0</td>\n",
              "      <td>0</td>\n",
              "      <td>0</td>\n",
              "      <td>0</td>\n",
              "      <td>1</td>\n",
              "      <td>0</td>\n",
              "      <td>1</td>\n",
              "      <td>0</td>\n",
              "      <td>0</td>\n",
              "    </tr>\n",
              "    <tr>\n",
              "      <th>4342</th>\n",
              "      <td>2017</td>\n",
              "      <td>6900</td>\n",
              "      <td>7.25</td>\n",
              "      <td>9.85</td>\n",
              "      <td>0</td>\n",
              "      <td>0</td>\n",
              "      <td>0</td>\n",
              "      <td>1</td>\n",
              "      <td>0</td>\n",
              "      <td>0</td>\n",
              "      <td>1</td>\n",
              "      <td>0</td>\n",
              "      <td>1</td>\n",
              "      <td>0</td>\n",
              "      <td>0</td>\n",
              "    </tr>\n",
              "    <tr>\n",
              "      <th>4343</th>\n",
              "      <td>2011</td>\n",
              "      <td>5200</td>\n",
              "      <td>2.85</td>\n",
              "      <td>4.15</td>\n",
              "      <td>0</td>\n",
              "      <td>0</td>\n",
              "      <td>0</td>\n",
              "      <td>1</td>\n",
              "      <td>0</td>\n",
              "      <td>0</td>\n",
              "      <td>1</td>\n",
              "      <td>0</td>\n",
              "      <td>1</td>\n",
              "      <td>0</td>\n",
              "      <td>0</td>\n",
              "    </tr>\n",
              "    <tr>\n",
              "      <th>4344</th>\n",
              "      <td>2014</td>\n",
              "      <td>42450</td>\n",
              "      <td>4.60</td>\n",
              "      <td>6.87</td>\n",
              "      <td>1</td>\n",
              "      <td>0</td>\n",
              "      <td>0</td>\n",
              "      <td>0</td>\n",
              "      <td>0</td>\n",
              "      <td>0</td>\n",
              "      <td>1</td>\n",
              "      <td>0</td>\n",
              "      <td>1</td>\n",
              "      <td>0</td>\n",
              "      <td>0</td>\n",
              "    </tr>\n",
              "  </tbody>\n",
              "</table>\n",
              "</div>"
            ],
            "text/plain": [
              "      year  km_driven  ...  owner_Test Drive Car  owner_Third Owner\n",
              "4340  2014      27000  ...                     0                  0\n",
              "4341  2013      43000  ...                     0                  0\n",
              "4342  2017       6900  ...                     0                  0\n",
              "4343  2011       5200  ...                     0                  0\n",
              "4344  2014      42450  ...                     0                  0\n",
              "\n",
              "[5 rows x 15 columns]"
            ]
          },
          "metadata": {
            "tags": []
          },
          "execution_count": 708
        }
      ]
    },
    {
      "cell_type": "code",
      "metadata": {
        "id": "8jAd8mA6z9ME",
        "outputId": "14b91595-2caa-481b-9179-f903e1c0bcf3",
        "colab": {
          "base_uri": "https://localhost:8080/",
          "height": 253
        }
      },
      "source": [
        "test_data.head()"
      ],
      "execution_count": null,
      "outputs": [
        {
          "output_type": "execute_result",
          "data": {
            "text/html": [
              "<div>\n",
              "<style scoped>\n",
              "    .dataframe tbody tr th:only-of-type {\n",
              "        vertical-align: middle;\n",
              "    }\n",
              "\n",
              "    .dataframe tbody tr th {\n",
              "        vertical-align: top;\n",
              "    }\n",
              "\n",
              "    .dataframe thead th {\n",
              "        text-align: right;\n",
              "    }\n",
              "</style>\n",
              "<table border=\"1\" class=\"dataframe\">\n",
              "  <thead>\n",
              "    <tr style=\"text-align: right;\">\n",
              "      <th></th>\n",
              "      <th>year</th>\n",
              "      <th>km_driven</th>\n",
              "      <th>selling_price_1</th>\n",
              "      <th>Present_Price</th>\n",
              "      <th>fuel_Diesel</th>\n",
              "      <th>fuel_Electric</th>\n",
              "      <th>fuel_LPG</th>\n",
              "      <th>fuel_Petrol</th>\n",
              "      <th>seller_type_Individual</th>\n",
              "      <th>seller_type_Trustmark Dealer</th>\n",
              "      <th>transmission_Manual</th>\n",
              "      <th>owner_Fourth &amp; Above Owner</th>\n",
              "      <th>owner_Second Owner</th>\n",
              "      <th>owner_Test Drive Car</th>\n",
              "      <th>owner_Third Owner</th>\n",
              "    </tr>\n",
              "  </thead>\n",
              "  <tbody>\n",
              "    <tr>\n",
              "      <th>0</th>\n",
              "      <td>2007</td>\n",
              "      <td>70000</td>\n",
              "      <td>0.60</td>\n",
              "      <td>NaN</td>\n",
              "      <td>0</td>\n",
              "      <td>0</td>\n",
              "      <td>0</td>\n",
              "      <td>1</td>\n",
              "      <td>1</td>\n",
              "      <td>0</td>\n",
              "      <td>1</td>\n",
              "      <td>0</td>\n",
              "      <td>0</td>\n",
              "      <td>0</td>\n",
              "      <td>0</td>\n",
              "    </tr>\n",
              "    <tr>\n",
              "      <th>1</th>\n",
              "      <td>2007</td>\n",
              "      <td>50000</td>\n",
              "      <td>1.35</td>\n",
              "      <td>NaN</td>\n",
              "      <td>0</td>\n",
              "      <td>0</td>\n",
              "      <td>0</td>\n",
              "      <td>1</td>\n",
              "      <td>1</td>\n",
              "      <td>0</td>\n",
              "      <td>1</td>\n",
              "      <td>0</td>\n",
              "      <td>0</td>\n",
              "      <td>0</td>\n",
              "      <td>0</td>\n",
              "    </tr>\n",
              "    <tr>\n",
              "      <th>2</th>\n",
              "      <td>2012</td>\n",
              "      <td>100000</td>\n",
              "      <td>6.00</td>\n",
              "      <td>NaN</td>\n",
              "      <td>1</td>\n",
              "      <td>0</td>\n",
              "      <td>0</td>\n",
              "      <td>0</td>\n",
              "      <td>1</td>\n",
              "      <td>0</td>\n",
              "      <td>1</td>\n",
              "      <td>0</td>\n",
              "      <td>0</td>\n",
              "      <td>0</td>\n",
              "      <td>0</td>\n",
              "    </tr>\n",
              "    <tr>\n",
              "      <th>3</th>\n",
              "      <td>2017</td>\n",
              "      <td>46000</td>\n",
              "      <td>2.50</td>\n",
              "      <td>NaN</td>\n",
              "      <td>0</td>\n",
              "      <td>0</td>\n",
              "      <td>0</td>\n",
              "      <td>1</td>\n",
              "      <td>1</td>\n",
              "      <td>0</td>\n",
              "      <td>1</td>\n",
              "      <td>0</td>\n",
              "      <td>0</td>\n",
              "      <td>0</td>\n",
              "      <td>0</td>\n",
              "    </tr>\n",
              "    <tr>\n",
              "      <th>4</th>\n",
              "      <td>2014</td>\n",
              "      <td>141000</td>\n",
              "      <td>4.50</td>\n",
              "      <td>NaN</td>\n",
              "      <td>1</td>\n",
              "      <td>0</td>\n",
              "      <td>0</td>\n",
              "      <td>0</td>\n",
              "      <td>1</td>\n",
              "      <td>0</td>\n",
              "      <td>1</td>\n",
              "      <td>0</td>\n",
              "      <td>1</td>\n",
              "      <td>0</td>\n",
              "      <td>0</td>\n",
              "    </tr>\n",
              "  </tbody>\n",
              "</table>\n",
              "</div>"
            ],
            "text/plain": [
              "   year  km_driven  ...  owner_Test Drive Car  owner_Third Owner\n",
              "0  2007      70000  ...                     0                  0\n",
              "1  2007      50000  ...                     0                  0\n",
              "2  2012     100000  ...                     0                  0\n",
              "3  2017      46000  ...                     0                  0\n",
              "4  2014     141000  ...                     0                  0\n",
              "\n",
              "[5 rows x 15 columns]"
            ]
          },
          "metadata": {
            "tags": []
          },
          "execution_count": 709
        }
      ]
    },
    {
      "cell_type": "code",
      "metadata": {
        "id": "1uyE-tV8z9JR",
        "outputId": "e5582e44-c2a2-4333-efce-639ca8cc77fe",
        "colab": {
          "base_uri": "https://localhost:8080/",
          "height": 126
        }
      },
      "source": [
        "y_train = car_model_1['Present_Price']\n",
        "y_train.head()"
      ],
      "execution_count": null,
      "outputs": [
        {
          "output_type": "execute_result",
          "data": {
            "text/plain": [
              "4340    5.59\n",
              "4341    9.54\n",
              "4342    9.85\n",
              "4343    4.15\n",
              "4344    6.87\n",
              "Name: Present_Price, dtype: float64"
            ]
          },
          "metadata": {
            "tags": []
          },
          "execution_count": 710
        }
      ]
    },
    {
      "cell_type": "code",
      "metadata": {
        "id": "qTJdUCEQz9F9"
      },
      "source": [
        "x_train = car_model_1.drop('Present_Price' , axis=1)\n",
        "x_test = test_data.drop('Present_Price' , axis=1)\n",
        "model = LinearRegression()\n",
        "model.fit(x_train , y_train)\n",
        "\n",
        "y_pred = model.predict(x_test)"
      ],
      "execution_count": null,
      "outputs": []
    },
    {
      "cell_type": "code",
      "metadata": {
        "id": "zqZ3Mx-Fz9Dm",
        "outputId": "7c019897-fd97-4f5e-8b8f-8b7b3ababc4a",
        "colab": {
          "base_uri": "https://localhost:8080/",
          "height": 198
        }
      },
      "source": [
        "y_pred = pd.DataFrame(y_pred)\n",
        "y_pred = y_pred.squeeze()\n",
        "final_carr_model = car.copy()\n",
        "final_carr_model['Present_Price'] = final_carr_model['Present_Price'].fillna(y_pred)\n",
        "final_carr_model.head()"
      ],
      "execution_count": null,
      "outputs": [
        {
          "output_type": "execute_result",
          "data": {
            "text/html": [
              "<div>\n",
              "<style scoped>\n",
              "    .dataframe tbody tr th:only-of-type {\n",
              "        vertical-align: middle;\n",
              "    }\n",
              "\n",
              "    .dataframe tbody tr th {\n",
              "        vertical-align: top;\n",
              "    }\n",
              "\n",
              "    .dataframe thead th {\n",
              "        text-align: right;\n",
              "    }\n",
              "</style>\n",
              "<table border=\"1\" class=\"dataframe\">\n",
              "  <thead>\n",
              "    <tr style=\"text-align: right;\">\n",
              "      <th></th>\n",
              "      <th>name</th>\n",
              "      <th>year</th>\n",
              "      <th>km_driven</th>\n",
              "      <th>fuel</th>\n",
              "      <th>seller_type</th>\n",
              "      <th>transmission</th>\n",
              "      <th>owner</th>\n",
              "      <th>selling_price_1</th>\n",
              "      <th>Present_Price</th>\n",
              "    </tr>\n",
              "  </thead>\n",
              "  <tbody>\n",
              "    <tr>\n",
              "      <th>0</th>\n",
              "      <td>Maruti 800 AC</td>\n",
              "      <td>2007</td>\n",
              "      <td>70000</td>\n",
              "      <td>Petrol</td>\n",
              "      <td>Individual</td>\n",
              "      <td>Manual</td>\n",
              "      <td>First Owner</td>\n",
              "      <td>0.60</td>\n",
              "      <td>10.323799</td>\n",
              "    </tr>\n",
              "    <tr>\n",
              "      <th>1</th>\n",
              "      <td>Maruti Wagon R LXI Minor</td>\n",
              "      <td>2007</td>\n",
              "      <td>50000</td>\n",
              "      <td>Petrol</td>\n",
              "      <td>Individual</td>\n",
              "      <td>Manual</td>\n",
              "      <td>First Owner</td>\n",
              "      <td>1.35</td>\n",
              "      <td>11.337132</td>\n",
              "    </tr>\n",
              "    <tr>\n",
              "      <th>2</th>\n",
              "      <td>Hyundai Verna 1.6 SX</td>\n",
              "      <td>2012</td>\n",
              "      <td>100000</td>\n",
              "      <td>Diesel</td>\n",
              "      <td>Individual</td>\n",
              "      <td>Manual</td>\n",
              "      <td>First Owner</td>\n",
              "      <td>6.00</td>\n",
              "      <td>14.868169</td>\n",
              "    </tr>\n",
              "    <tr>\n",
              "      <th>3</th>\n",
              "      <td>Datsun RediGO T Option</td>\n",
              "      <td>2017</td>\n",
              "      <td>46000</td>\n",
              "      <td>Petrol</td>\n",
              "      <td>Individual</td>\n",
              "      <td>Manual</td>\n",
              "      <td>First Owner</td>\n",
              "      <td>2.50</td>\n",
              "      <td>6.144953</td>\n",
              "    </tr>\n",
              "    <tr>\n",
              "      <th>4</th>\n",
              "      <td>Honda Amaze VX i-DTEC</td>\n",
              "      <td>2014</td>\n",
              "      <td>141000</td>\n",
              "      <td>Diesel</td>\n",
              "      <td>Individual</td>\n",
              "      <td>Manual</td>\n",
              "      <td>Second Owner</td>\n",
              "      <td>4.50</td>\n",
              "      <td>7.298079</td>\n",
              "    </tr>\n",
              "  </tbody>\n",
              "</table>\n",
              "</div>"
            ],
            "text/plain": [
              "                       name  year  ...  selling_price_1 Present_Price\n",
              "0             Maruti 800 AC  2007  ...             0.60     10.323799\n",
              "1  Maruti Wagon R LXI Minor  2007  ...             1.35     11.337132\n",
              "2      Hyundai Verna 1.6 SX  2012  ...             6.00     14.868169\n",
              "3    Datsun RediGO T Option  2017  ...             2.50      6.144953\n",
              "4     Honda Amaze VX i-DTEC  2014  ...             4.50      7.298079\n",
              "\n",
              "[5 rows x 9 columns]"
            ]
          },
          "metadata": {
            "tags": []
          },
          "execution_count": 712
        }
      ]
    },
    {
      "cell_type": "code",
      "metadata": {
        "id": "ey42Xpvt49WS",
        "outputId": "b959a38d-d501-4749-a02f-4773525cfbd9",
        "colab": {
          "base_uri": "https://localhost:8080/",
          "height": 168
        }
      },
      "source": [
        "final_carr_model.corr()"
      ],
      "execution_count": null,
      "outputs": [
        {
          "output_type": "execute_result",
          "data": {
            "text/html": [
              "<div>\n",
              "<style scoped>\n",
              "    .dataframe tbody tr th:only-of-type {\n",
              "        vertical-align: middle;\n",
              "    }\n",
              "\n",
              "    .dataframe tbody tr th {\n",
              "        vertical-align: top;\n",
              "    }\n",
              "\n",
              "    .dataframe thead th {\n",
              "        text-align: right;\n",
              "    }\n",
              "</style>\n",
              "<table border=\"1\" class=\"dataframe\">\n",
              "  <thead>\n",
              "    <tr style=\"text-align: right;\">\n",
              "      <th></th>\n",
              "      <th>year</th>\n",
              "      <th>km_driven</th>\n",
              "      <th>selling_price_1</th>\n",
              "      <th>Present_Price</th>\n",
              "    </tr>\n",
              "  </thead>\n",
              "  <tbody>\n",
              "    <tr>\n",
              "      <th>year</th>\n",
              "      <td>1.000000</td>\n",
              "      <td>-0.422832</td>\n",
              "      <td>0.418756</td>\n",
              "      <td>0.055325</td>\n",
              "    </tr>\n",
              "    <tr>\n",
              "      <th>km_driven</th>\n",
              "      <td>-0.422832</td>\n",
              "      <td>1.000000</td>\n",
              "      <td>-0.177614</td>\n",
              "      <td>-0.043446</td>\n",
              "    </tr>\n",
              "    <tr>\n",
              "      <th>selling_price_1</th>\n",
              "      <td>0.418756</td>\n",
              "      <td>-0.177614</td>\n",
              "      <td>1.000000</td>\n",
              "      <td>0.191210</td>\n",
              "    </tr>\n",
              "    <tr>\n",
              "      <th>Present_Price</th>\n",
              "      <td>0.055325</td>\n",
              "      <td>-0.043446</td>\n",
              "      <td>0.191210</td>\n",
              "      <td>1.000000</td>\n",
              "    </tr>\n",
              "  </tbody>\n",
              "</table>\n",
              "</div>"
            ],
            "text/plain": [
              "                     year  km_driven  selling_price_1  Present_Price\n",
              "year             1.000000  -0.422832         0.418756       0.055325\n",
              "km_driven       -0.422832   1.000000        -0.177614      -0.043446\n",
              "selling_price_1  0.418756  -0.177614         1.000000       0.191210\n",
              "Present_Price    0.055325  -0.043446         0.191210       1.000000"
            ]
          },
          "metadata": {
            "tags": []
          },
          "execution_count": 713
        }
      ]
    },
    {
      "cell_type": "code",
      "metadata": {
        "id": "7SHcMREF5RMP",
        "outputId": "64c5116f-65b3-4065-e11a-a2fa36effa87",
        "colab": {
          "base_uri": "https://localhost:8080/",
          "height": 253
        }
      },
      "source": [
        "categorial = ['fuel' , 'seller_type' , 'transmission' , 'owner']\n",
        "final_carr_model = pd.get_dummies(final_carr_model, columns=categorial, drop_first=True)\n",
        "final_carr_model.drop(['name'] , axis=1 , inplace=True)\n",
        "final_carr_model.head()"
      ],
      "execution_count": null,
      "outputs": [
        {
          "output_type": "execute_result",
          "data": {
            "text/html": [
              "<div>\n",
              "<style scoped>\n",
              "    .dataframe tbody tr th:only-of-type {\n",
              "        vertical-align: middle;\n",
              "    }\n",
              "\n",
              "    .dataframe tbody tr th {\n",
              "        vertical-align: top;\n",
              "    }\n",
              "\n",
              "    .dataframe thead th {\n",
              "        text-align: right;\n",
              "    }\n",
              "</style>\n",
              "<table border=\"1\" class=\"dataframe\">\n",
              "  <thead>\n",
              "    <tr style=\"text-align: right;\">\n",
              "      <th></th>\n",
              "      <th>year</th>\n",
              "      <th>km_driven</th>\n",
              "      <th>selling_price_1</th>\n",
              "      <th>Present_Price</th>\n",
              "      <th>fuel_Diesel</th>\n",
              "      <th>fuel_Electric</th>\n",
              "      <th>fuel_LPG</th>\n",
              "      <th>fuel_Petrol</th>\n",
              "      <th>seller_type_Individual</th>\n",
              "      <th>seller_type_Trustmark Dealer</th>\n",
              "      <th>transmission_Manual</th>\n",
              "      <th>owner_Fourth &amp; Above Owner</th>\n",
              "      <th>owner_Second Owner</th>\n",
              "      <th>owner_Test Drive Car</th>\n",
              "      <th>owner_Third Owner</th>\n",
              "    </tr>\n",
              "  </thead>\n",
              "  <tbody>\n",
              "    <tr>\n",
              "      <th>0</th>\n",
              "      <td>2007</td>\n",
              "      <td>70000</td>\n",
              "      <td>0.60</td>\n",
              "      <td>10.323799</td>\n",
              "      <td>0</td>\n",
              "      <td>0</td>\n",
              "      <td>0</td>\n",
              "      <td>1</td>\n",
              "      <td>1</td>\n",
              "      <td>0</td>\n",
              "      <td>1</td>\n",
              "      <td>0</td>\n",
              "      <td>0</td>\n",
              "      <td>0</td>\n",
              "      <td>0</td>\n",
              "    </tr>\n",
              "    <tr>\n",
              "      <th>1</th>\n",
              "      <td>2007</td>\n",
              "      <td>50000</td>\n",
              "      <td>1.35</td>\n",
              "      <td>11.337132</td>\n",
              "      <td>0</td>\n",
              "      <td>0</td>\n",
              "      <td>0</td>\n",
              "      <td>1</td>\n",
              "      <td>1</td>\n",
              "      <td>0</td>\n",
              "      <td>1</td>\n",
              "      <td>0</td>\n",
              "      <td>0</td>\n",
              "      <td>0</td>\n",
              "      <td>0</td>\n",
              "    </tr>\n",
              "    <tr>\n",
              "      <th>2</th>\n",
              "      <td>2012</td>\n",
              "      <td>100000</td>\n",
              "      <td>6.00</td>\n",
              "      <td>14.868169</td>\n",
              "      <td>1</td>\n",
              "      <td>0</td>\n",
              "      <td>0</td>\n",
              "      <td>0</td>\n",
              "      <td>1</td>\n",
              "      <td>0</td>\n",
              "      <td>1</td>\n",
              "      <td>0</td>\n",
              "      <td>0</td>\n",
              "      <td>0</td>\n",
              "      <td>0</td>\n",
              "    </tr>\n",
              "    <tr>\n",
              "      <th>3</th>\n",
              "      <td>2017</td>\n",
              "      <td>46000</td>\n",
              "      <td>2.50</td>\n",
              "      <td>6.144953</td>\n",
              "      <td>0</td>\n",
              "      <td>0</td>\n",
              "      <td>0</td>\n",
              "      <td>1</td>\n",
              "      <td>1</td>\n",
              "      <td>0</td>\n",
              "      <td>1</td>\n",
              "      <td>0</td>\n",
              "      <td>0</td>\n",
              "      <td>0</td>\n",
              "      <td>0</td>\n",
              "    </tr>\n",
              "    <tr>\n",
              "      <th>4</th>\n",
              "      <td>2014</td>\n",
              "      <td>141000</td>\n",
              "      <td>4.50</td>\n",
              "      <td>7.298079</td>\n",
              "      <td>1</td>\n",
              "      <td>0</td>\n",
              "      <td>0</td>\n",
              "      <td>0</td>\n",
              "      <td>1</td>\n",
              "      <td>0</td>\n",
              "      <td>1</td>\n",
              "      <td>0</td>\n",
              "      <td>1</td>\n",
              "      <td>0</td>\n",
              "      <td>0</td>\n",
              "    </tr>\n",
              "  </tbody>\n",
              "</table>\n",
              "</div>"
            ],
            "text/plain": [
              "   year  km_driven  ...  owner_Test Drive Car  owner_Third Owner\n",
              "0  2007      70000  ...                     0                  0\n",
              "1  2007      50000  ...                     0                  0\n",
              "2  2012     100000  ...                     0                  0\n",
              "3  2017      46000  ...                     0                  0\n",
              "4  2014     141000  ...                     0                  0\n",
              "\n",
              "[5 rows x 15 columns]"
            ]
          },
          "metadata": {
            "tags": []
          },
          "execution_count": 714
        }
      ]
    },
    {
      "cell_type": "code",
      "metadata": {
        "id": "ErkXIQgj73VA",
        "outputId": "b7fe2207-6303-4f1e-e717-e1d70eb83e9e",
        "colab": {
          "base_uri": "https://localhost:8080/",
          "height": 308
        }
      },
      "source": [
        "final_carr_model.isnull().sum()"
      ],
      "execution_count": null,
      "outputs": [
        {
          "output_type": "execute_result",
          "data": {
            "text/plain": [
              "year                            0\n",
              "km_driven                       0\n",
              "selling_price_1                 0\n",
              "Present_Price                   4\n",
              "fuel_Diesel                     0\n",
              "fuel_Electric                   0\n",
              "fuel_LPG                        0\n",
              "fuel_Petrol                     0\n",
              "seller_type_Individual          0\n",
              "seller_type_Trustmark Dealer    0\n",
              "transmission_Manual             0\n",
              "owner_Fourth & Above Owner      0\n",
              "owner_Second Owner              0\n",
              "owner_Test Drive Car            0\n",
              "owner_Third Owner               0\n",
              "dtype: int64"
            ]
          },
          "metadata": {
            "tags": []
          },
          "execution_count": 715
        }
      ]
    },
    {
      "cell_type": "markdown",
      "metadata": {
        "id": "Oyotn0bLy7V7"
      },
      "source": [
        "There are still 4 missing values in the `Present Price` column. \n",
        "\n",
        "Filling the values with the median ."
      ]
    },
    {
      "cell_type": "code",
      "metadata": {
        "id": "Z5M5XkgF8Rh7",
        "outputId": "b8c25b2b-d504-4585-b8f7-c2983f304c75",
        "colab": {
          "base_uri": "https://localhost:8080/",
          "height": 308
        }
      },
      "source": [
        "median = final_carr_model['Present_Price'].median()\n",
        "median\n",
        "final_carr_model['Present_Price'] = final_carr_model['Present_Price'].fillna(median)\n",
        "final_carr_model.isnull().sum()"
      ],
      "execution_count": null,
      "outputs": [
        {
          "output_type": "execute_result",
          "data": {
            "text/plain": [
              "year                            0\n",
              "km_driven                       0\n",
              "selling_price_1                 0\n",
              "Present_Price                   0\n",
              "fuel_Diesel                     0\n",
              "fuel_Electric                   0\n",
              "fuel_LPG                        0\n",
              "fuel_Petrol                     0\n",
              "seller_type_Individual          0\n",
              "seller_type_Trustmark Dealer    0\n",
              "transmission_Manual             0\n",
              "owner_Fourth & Above Owner      0\n",
              "owner_Second Owner              0\n",
              "owner_Test Drive Car            0\n",
              "owner_Third Owner               0\n",
              "dtype: int64"
            ]
          },
          "metadata": {
            "tags": []
          },
          "execution_count": 716
        }
      ]
    },
    {
      "cell_type": "markdown",
      "metadata": {
        "id": "oK4UCi25loIS"
      },
      "source": [
        "## 3.Filling values using MICE Algorithm"
      ]
    },
    {
      "cell_type": "code",
      "metadata": {
        "id": "Vo-wnuDm5_lz",
        "outputId": "01168b83-1a31-4d31-d8f1-4fe101744acf",
        "colab": {
          "base_uri": "https://localhost:8080/",
          "height": 253
        }
      },
      "source": [
        "# Perform One Hot Encoding on Categorical Data\n",
        "c = car.copy(deep=True)\n",
        "categorial = ['fuel' , 'seller_type' , 'transmission' , 'owner']\n",
        "c = pd.get_dummies(c, columns=categorial, drop_first=True)\n",
        "c.drop(['name'] , axis=1 , inplace=True)\n",
        "c.head()"
      ],
      "execution_count": null,
      "outputs": [
        {
          "output_type": "execute_result",
          "data": {
            "text/html": [
              "<div>\n",
              "<style scoped>\n",
              "    .dataframe tbody tr th:only-of-type {\n",
              "        vertical-align: middle;\n",
              "    }\n",
              "\n",
              "    .dataframe tbody tr th {\n",
              "        vertical-align: top;\n",
              "    }\n",
              "\n",
              "    .dataframe thead th {\n",
              "        text-align: right;\n",
              "    }\n",
              "</style>\n",
              "<table border=\"1\" class=\"dataframe\">\n",
              "  <thead>\n",
              "    <tr style=\"text-align: right;\">\n",
              "      <th></th>\n",
              "      <th>year</th>\n",
              "      <th>km_driven</th>\n",
              "      <th>selling_price_1</th>\n",
              "      <th>Present_Price</th>\n",
              "      <th>fuel_Diesel</th>\n",
              "      <th>fuel_Electric</th>\n",
              "      <th>fuel_LPG</th>\n",
              "      <th>fuel_Petrol</th>\n",
              "      <th>seller_type_Individual</th>\n",
              "      <th>seller_type_Trustmark Dealer</th>\n",
              "      <th>transmission_Manual</th>\n",
              "      <th>owner_Fourth &amp; Above Owner</th>\n",
              "      <th>owner_Second Owner</th>\n",
              "      <th>owner_Test Drive Car</th>\n",
              "      <th>owner_Third Owner</th>\n",
              "    </tr>\n",
              "  </thead>\n",
              "  <tbody>\n",
              "    <tr>\n",
              "      <th>0</th>\n",
              "      <td>2007</td>\n",
              "      <td>70000</td>\n",
              "      <td>0.60</td>\n",
              "      <td>NaN</td>\n",
              "      <td>0</td>\n",
              "      <td>0</td>\n",
              "      <td>0</td>\n",
              "      <td>1</td>\n",
              "      <td>1</td>\n",
              "      <td>0</td>\n",
              "      <td>1</td>\n",
              "      <td>0</td>\n",
              "      <td>0</td>\n",
              "      <td>0</td>\n",
              "      <td>0</td>\n",
              "    </tr>\n",
              "    <tr>\n",
              "      <th>1</th>\n",
              "      <td>2007</td>\n",
              "      <td>50000</td>\n",
              "      <td>1.35</td>\n",
              "      <td>NaN</td>\n",
              "      <td>0</td>\n",
              "      <td>0</td>\n",
              "      <td>0</td>\n",
              "      <td>1</td>\n",
              "      <td>1</td>\n",
              "      <td>0</td>\n",
              "      <td>1</td>\n",
              "      <td>0</td>\n",
              "      <td>0</td>\n",
              "      <td>0</td>\n",
              "      <td>0</td>\n",
              "    </tr>\n",
              "    <tr>\n",
              "      <th>2</th>\n",
              "      <td>2012</td>\n",
              "      <td>100000</td>\n",
              "      <td>6.00</td>\n",
              "      <td>NaN</td>\n",
              "      <td>1</td>\n",
              "      <td>0</td>\n",
              "      <td>0</td>\n",
              "      <td>0</td>\n",
              "      <td>1</td>\n",
              "      <td>0</td>\n",
              "      <td>1</td>\n",
              "      <td>0</td>\n",
              "      <td>0</td>\n",
              "      <td>0</td>\n",
              "      <td>0</td>\n",
              "    </tr>\n",
              "    <tr>\n",
              "      <th>3</th>\n",
              "      <td>2017</td>\n",
              "      <td>46000</td>\n",
              "      <td>2.50</td>\n",
              "      <td>NaN</td>\n",
              "      <td>0</td>\n",
              "      <td>0</td>\n",
              "      <td>0</td>\n",
              "      <td>1</td>\n",
              "      <td>1</td>\n",
              "      <td>0</td>\n",
              "      <td>1</td>\n",
              "      <td>0</td>\n",
              "      <td>0</td>\n",
              "      <td>0</td>\n",
              "      <td>0</td>\n",
              "    </tr>\n",
              "    <tr>\n",
              "      <th>4</th>\n",
              "      <td>2014</td>\n",
              "      <td>141000</td>\n",
              "      <td>4.50</td>\n",
              "      <td>NaN</td>\n",
              "      <td>1</td>\n",
              "      <td>0</td>\n",
              "      <td>0</td>\n",
              "      <td>0</td>\n",
              "      <td>1</td>\n",
              "      <td>0</td>\n",
              "      <td>1</td>\n",
              "      <td>0</td>\n",
              "      <td>1</td>\n",
              "      <td>0</td>\n",
              "      <td>0</td>\n",
              "    </tr>\n",
              "  </tbody>\n",
              "</table>\n",
              "</div>"
            ],
            "text/plain": [
              "   year  km_driven  ...  owner_Test Drive Car  owner_Third Owner\n",
              "0  2007      70000  ...                     0                  0\n",
              "1  2007      50000  ...                     0                  0\n",
              "2  2012     100000  ...                     0                  0\n",
              "3  2017      46000  ...                     0                  0\n",
              "4  2014     141000  ...                     0                  0\n",
              "\n",
              "[5 rows x 15 columns]"
            ]
          },
          "metadata": {
            "tags": []
          },
          "execution_count": 717
        }
      ]
    },
    {
      "cell_type": "code",
      "metadata": {
        "id": "aMiAAHSJF4jd"
      },
      "source": [
        "# Dropping the fuel_Electric Column since there is only one data point where fuel=Electric\n",
        "c.drop(['fuel_Electric'] , axis = 1 , inplace=True)\n",
        "\n",
        "# Using Mice Algorithm\n",
        "from fancyimpute import IterativeImputer\n",
        "MICE_imputer = IterativeImputer()\n",
        "c.iloc[:, :] = MICE_imputer.fit_transform(c)"
      ],
      "execution_count": null,
      "outputs": []
    },
    {
      "cell_type": "code",
      "metadata": {
        "id": "UljxrhAWGeu8",
        "outputId": "7883f8b1-3b16-40b4-f570-6b370b23722d",
        "colab": {
          "base_uri": "https://localhost:8080/",
          "height": 215
        }
      },
      "source": [
        "c.head()"
      ],
      "execution_count": null,
      "outputs": [
        {
          "output_type": "execute_result",
          "data": {
            "text/html": [
              "<div>\n",
              "<style scoped>\n",
              "    .dataframe tbody tr th:only-of-type {\n",
              "        vertical-align: middle;\n",
              "    }\n",
              "\n",
              "    .dataframe tbody tr th {\n",
              "        vertical-align: top;\n",
              "    }\n",
              "\n",
              "    .dataframe thead th {\n",
              "        text-align: right;\n",
              "    }\n",
              "</style>\n",
              "<table border=\"1\" class=\"dataframe\">\n",
              "  <thead>\n",
              "    <tr style=\"text-align: right;\">\n",
              "      <th></th>\n",
              "      <th>year</th>\n",
              "      <th>km_driven</th>\n",
              "      <th>selling_price_1</th>\n",
              "      <th>Present_Price</th>\n",
              "      <th>fuel_Diesel</th>\n",
              "      <th>fuel_LPG</th>\n",
              "      <th>fuel_Petrol</th>\n",
              "      <th>seller_type_Individual</th>\n",
              "      <th>seller_type_Trustmark Dealer</th>\n",
              "      <th>transmission_Manual</th>\n",
              "      <th>owner_Fourth &amp; Above Owner</th>\n",
              "      <th>owner_Second Owner</th>\n",
              "      <th>owner_Test Drive Car</th>\n",
              "      <th>owner_Third Owner</th>\n",
              "    </tr>\n",
              "  </thead>\n",
              "  <tbody>\n",
              "    <tr>\n",
              "      <th>0</th>\n",
              "      <td>2007.0</td>\n",
              "      <td>70000.0</td>\n",
              "      <td>0.60</td>\n",
              "      <td>6.735223</td>\n",
              "      <td>0.0</td>\n",
              "      <td>0.0</td>\n",
              "      <td>1.0</td>\n",
              "      <td>1.0</td>\n",
              "      <td>0.0</td>\n",
              "      <td>1.0</td>\n",
              "      <td>0.0</td>\n",
              "      <td>0.0</td>\n",
              "      <td>0.0</td>\n",
              "      <td>0.0</td>\n",
              "    </tr>\n",
              "    <tr>\n",
              "      <th>1</th>\n",
              "      <td>2007.0</td>\n",
              "      <td>50000.0</td>\n",
              "      <td>1.35</td>\n",
              "      <td>7.702700</td>\n",
              "      <td>0.0</td>\n",
              "      <td>0.0</td>\n",
              "      <td>1.0</td>\n",
              "      <td>1.0</td>\n",
              "      <td>0.0</td>\n",
              "      <td>1.0</td>\n",
              "      <td>0.0</td>\n",
              "      <td>0.0</td>\n",
              "      <td>0.0</td>\n",
              "      <td>0.0</td>\n",
              "    </tr>\n",
              "    <tr>\n",
              "      <th>2</th>\n",
              "      <td>2012.0</td>\n",
              "      <td>100000.0</td>\n",
              "      <td>6.00</td>\n",
              "      <td>11.349869</td>\n",
              "      <td>1.0</td>\n",
              "      <td>0.0</td>\n",
              "      <td>0.0</td>\n",
              "      <td>1.0</td>\n",
              "      <td>0.0</td>\n",
              "      <td>1.0</td>\n",
              "      <td>0.0</td>\n",
              "      <td>0.0</td>\n",
              "      <td>0.0</td>\n",
              "      <td>0.0</td>\n",
              "    </tr>\n",
              "    <tr>\n",
              "      <th>3</th>\n",
              "      <td>2017.0</td>\n",
              "      <td>46000.0</td>\n",
              "      <td>2.50</td>\n",
              "      <td>2.367144</td>\n",
              "      <td>0.0</td>\n",
              "      <td>0.0</td>\n",
              "      <td>1.0</td>\n",
              "      <td>1.0</td>\n",
              "      <td>0.0</td>\n",
              "      <td>1.0</td>\n",
              "      <td>0.0</td>\n",
              "      <td>0.0</td>\n",
              "      <td>0.0</td>\n",
              "      <td>0.0</td>\n",
              "    </tr>\n",
              "    <tr>\n",
              "      <th>4</th>\n",
              "      <td>2014.0</td>\n",
              "      <td>141000.0</td>\n",
              "      <td>4.50</td>\n",
              "      <td>7.619203</td>\n",
              "      <td>1.0</td>\n",
              "      <td>0.0</td>\n",
              "      <td>0.0</td>\n",
              "      <td>1.0</td>\n",
              "      <td>0.0</td>\n",
              "      <td>1.0</td>\n",
              "      <td>0.0</td>\n",
              "      <td>1.0</td>\n",
              "      <td>0.0</td>\n",
              "      <td>0.0</td>\n",
              "    </tr>\n",
              "  </tbody>\n",
              "</table>\n",
              "</div>"
            ],
            "text/plain": [
              "     year  km_driven  ...  owner_Test Drive Car  owner_Third Owner\n",
              "0  2007.0    70000.0  ...                   0.0                0.0\n",
              "1  2007.0    50000.0  ...                   0.0                0.0\n",
              "2  2012.0   100000.0  ...                   0.0                0.0\n",
              "3  2017.0    46000.0  ...                   0.0                0.0\n",
              "4  2014.0   141000.0  ...                   0.0                0.0\n",
              "\n",
              "[5 rows x 14 columns]"
            ]
          },
          "metadata": {
            "tags": []
          },
          "execution_count": 719
        }
      ]
    },
    {
      "cell_type": "code",
      "metadata": {
        "id": "ISEt9DehGkWA",
        "outputId": "608f07ac-3919-4f67-fc1e-6397b2ac6f20",
        "colab": {
          "base_uri": "https://localhost:8080/",
          "height": 198
        }
      },
      "source": [
        "car.tail()"
      ],
      "execution_count": null,
      "outputs": [
        {
          "output_type": "execute_result",
          "data": {
            "text/html": [
              "<div>\n",
              "<style scoped>\n",
              "    .dataframe tbody tr th:only-of-type {\n",
              "        vertical-align: middle;\n",
              "    }\n",
              "\n",
              "    .dataframe tbody tr th {\n",
              "        vertical-align: top;\n",
              "    }\n",
              "\n",
              "    .dataframe thead th {\n",
              "        text-align: right;\n",
              "    }\n",
              "</style>\n",
              "<table border=\"1\" class=\"dataframe\">\n",
              "  <thead>\n",
              "    <tr style=\"text-align: right;\">\n",
              "      <th></th>\n",
              "      <th>name</th>\n",
              "      <th>year</th>\n",
              "      <th>km_driven</th>\n",
              "      <th>fuel</th>\n",
              "      <th>seller_type</th>\n",
              "      <th>transmission</th>\n",
              "      <th>owner</th>\n",
              "      <th>selling_price_1</th>\n",
              "      <th>Present_Price</th>\n",
              "    </tr>\n",
              "  </thead>\n",
              "  <tbody>\n",
              "    <tr>\n",
              "      <th>4636</th>\n",
              "      <td>city</td>\n",
              "      <td>2016</td>\n",
              "      <td>33988</td>\n",
              "      <td>Diesel</td>\n",
              "      <td>Dealer</td>\n",
              "      <td>Manual</td>\n",
              "      <td>Second Owner</td>\n",
              "      <td>9.50</td>\n",
              "      <td>11.6</td>\n",
              "    </tr>\n",
              "    <tr>\n",
              "      <th>4637</th>\n",
              "      <td>brio</td>\n",
              "      <td>2015</td>\n",
              "      <td>60000</td>\n",
              "      <td>Petrol</td>\n",
              "      <td>Dealer</td>\n",
              "      <td>Manual</td>\n",
              "      <td>Second Owner</td>\n",
              "      <td>4.00</td>\n",
              "      <td>5.9</td>\n",
              "    </tr>\n",
              "    <tr>\n",
              "      <th>4638</th>\n",
              "      <td>city</td>\n",
              "      <td>2009</td>\n",
              "      <td>87934</td>\n",
              "      <td>Petrol</td>\n",
              "      <td>Dealer</td>\n",
              "      <td>Manual</td>\n",
              "      <td>Second Owner</td>\n",
              "      <td>3.35</td>\n",
              "      <td>11.0</td>\n",
              "    </tr>\n",
              "    <tr>\n",
              "      <th>4639</th>\n",
              "      <td>city</td>\n",
              "      <td>2017</td>\n",
              "      <td>9000</td>\n",
              "      <td>Diesel</td>\n",
              "      <td>Dealer</td>\n",
              "      <td>Manual</td>\n",
              "      <td>Second Owner</td>\n",
              "      <td>11.50</td>\n",
              "      <td>12.5</td>\n",
              "    </tr>\n",
              "    <tr>\n",
              "      <th>4640</th>\n",
              "      <td>brio</td>\n",
              "      <td>2016</td>\n",
              "      <td>5464</td>\n",
              "      <td>Petrol</td>\n",
              "      <td>Dealer</td>\n",
              "      <td>Manual</td>\n",
              "      <td>Second Owner</td>\n",
              "      <td>5.30</td>\n",
              "      <td>5.9</td>\n",
              "    </tr>\n",
              "  </tbody>\n",
              "</table>\n",
              "</div>"
            ],
            "text/plain": [
              "      name  year  km_driven  ...         owner selling_price_1 Present_Price\n",
              "4636  city  2016      33988  ...  Second Owner            9.50          11.6\n",
              "4637  brio  2015      60000  ...  Second Owner            4.00           5.9\n",
              "4638  city  2009      87934  ...  Second Owner            3.35          11.0\n",
              "4639  city  2017       9000  ...  Second Owner           11.50          12.5\n",
              "4640  brio  2016       5464  ...  Second Owner            5.30           5.9\n",
              "\n",
              "[5 rows x 9 columns]"
            ]
          },
          "metadata": {
            "tags": []
          },
          "execution_count": 720
        }
      ]
    },
    {
      "cell_type": "markdown",
      "metadata": {
        "id": "LRgxT6Lt0Nic"
      },
      "source": [
        "# **11. Modeling the dataset where missing values were filled by Regression Imputation Algorithm**"
      ]
    },
    {
      "cell_type": "markdown",
      "metadata": {
        "id": "6pUWrwt29aiF"
      },
      "source": [
        "Using the sci-kit estimator workflow for choosing models , implementing different models on datasets"
      ]
    },
    {
      "cell_type": "markdown",
      "metadata": {
        "id": "DO5LD52Q8lFJ"
      },
      "source": [
        "## Preparing Data for Machine Learning Model"
      ]
    },
    {
      "cell_type": "code",
      "metadata": {
        "id": "chkgqVtI5qof"
      },
      "source": [
        "x = final_carr_model.drop('selling_price_1' , axis = 1)\n",
        "y = final_carr_model['selling_price_1'].values\n",
        "\n",
        "np.random.seed(42)\n",
        "x_train , x_test , y_train , y_test = train_test_split(x,y,test_size = 0.2)\n",
        "\n",
        "# Normalize the data\n",
        "sc = StandardScaler()\n",
        "x_train = sc.fit_transform(x_train)\n",
        "x_test = sc.transform(x_test)\n"
      ],
      "execution_count": null,
      "outputs": []
    },
    {
      "cell_type": "markdown",
      "metadata": {
        "id": "Z6_UAjNn8rP2"
      },
      "source": [
        "## **Models**"
      ]
    },
    {
      "cell_type": "markdown",
      "metadata": {
        "id": "-vgejZ-q8zXf"
      },
      "source": [
        "## Lasso Regression"
      ]
    },
    {
      "cell_type": "code",
      "metadata": {
        "id": "s26MB6gy6eGr",
        "outputId": "a004341f-02fc-4b70-f88b-0a4399ee6989",
        "colab": {
          "base_uri": "https://localhost:8080/",
          "height": 54
        }
      },
      "source": [
        "# Using Lasso Regression\n",
        "from sklearn import linear_model\n",
        "model_lasso = linear_model.Lasso(alpha=0.1)\n",
        "model_lasso.fit(x_train , y_train)\n",
        "y_test_pred_lasso = model_lasso.predict(x_test)\n",
        "\n",
        "# R^2 Score\n",
        "print(model_lasso.score(x_test , y_test))\n",
        "\n",
        "#Root Mean Squared Value for cross verification\n",
        "RMSE_LASSO_test = sqrt(mean_squared_error(y_test, y_test_pred_lasso))\n",
        "print(\"RMSE for Testing Data: \", RMSE_LASSO_test)"
      ],
      "execution_count": null,
      "outputs": [
        {
          "output_type": "stream",
          "text": [
            "0.42657526184930794\n",
            "RMSE for Testing Data:  3.752161684668691\n"
          ],
          "name": "stdout"
        }
      ]
    },
    {
      "cell_type": "markdown",
      "metadata": {
        "id": "oljNVSb49B12"
      },
      "source": [
        "## Support Vector Machine (SVM)"
      ]
    },
    {
      "cell_type": "code",
      "metadata": {
        "id": "9-55FZek6eTy",
        "outputId": "34c7b691-6c8c-45a4-f793-7a946f6a9588",
        "colab": {
          "base_uri": "https://localhost:8080/",
          "height": 54
        }
      },
      "source": [
        "# Using SVM \n",
        "from sklearn import svm\n",
        "model_svm = svm.SVR()\n",
        "model_svm.fit(x_train , y_train)\n",
        "y_test_pred_svm = model_svm.predict(x_test)\n",
        "\n",
        "# R^2 Score\n",
        "print(model_svm.score(x_test , y_test))\n",
        "\n",
        "#Root Mean Squared Value for cross verification\n",
        "RMSE_SVM_test = sqrt(mean_squared_error(y_test, y_test_pred_svm))\n",
        "print(\"RMSE for Testing Data: \", RMSE_SVM_test)"
      ],
      "execution_count": null,
      "outputs": [
        {
          "output_type": "stream",
          "text": [
            "0.5214892152523976\n",
            "RMSE for Testing Data:  3.427592604138502\n"
          ],
          "name": "stdout"
        }
      ]
    },
    {
      "cell_type": "markdown",
      "metadata": {
        "id": "w_A4hC5w9K85"
      },
      "source": [
        "## Decision Tree Regressor"
      ]
    },
    {
      "cell_type": "code",
      "metadata": {
        "id": "TlueJuyf6eXb",
        "outputId": "e6bf0e44-33f1-4136-ddd8-1f5a08f27749",
        "colab": {
          "base_uri": "https://localhost:8080/",
          "height": 54
        }
      },
      "source": [
        "# Using Decision Tree Regressor\n",
        "from sklearn.tree import DecisionTreeRegressor  \n",
        "decision_tree_reg = DecisionTreeRegressor()  \n",
        "decision_tree_reg.fit(x_train, y_train) \n",
        "y_test_pred_dtr = decision_tree_reg.predict(x_test)\n",
        "\n",
        "# R^2 Score\n",
        "print(decision_tree_reg.score(x_test, y_test))\n",
        "\n",
        "#Root Mean Squared Value for cross verification\n",
        "RMSE_DTR_test = sqrt(mean_squared_error(y_test, y_test_pred_dtr))\n",
        "print(\"RMSE for Testing Data: \", RMSE_DTR_test)"
      ],
      "execution_count": null,
      "outputs": [
        {
          "output_type": "stream",
          "text": [
            "0.377426675028379\n",
            "RMSE for Testing Data:  3.909656356161736\n"
          ],
          "name": "stdout"
        }
      ]
    },
    {
      "cell_type": "markdown",
      "metadata": {
        "id": "sSvpiMBv9Ozg"
      },
      "source": [
        "##Random Forest Regressor"
      ]
    },
    {
      "cell_type": "code",
      "metadata": {
        "id": "OrSx4xdL6eR0",
        "outputId": "8edf4925-784d-4a50-e209-631db2994e31",
        "colab": {
          "base_uri": "https://localhost:8080/",
          "height": 54
        }
      },
      "source": [
        "# Using Random Forest Regressor\n",
        "from sklearn.ensemble import RandomForestRegressor  \n",
        "random_forest_reg = RandomForestRegressor() \n",
        "random_forest_reg.fit(x_train, y_train) \n",
        "y_test_pred_rfr = random_forest_reg.predict(x_test)\n",
        "\n",
        "# R^2 Score\n",
        "print(random_forest_reg.score(x_test, y_test))\n",
        "\n",
        "#Root Mean Squared Value for cross verification\n",
        "RMSE_RFR_test = sqrt(mean_squared_error(y_test, y_test_pred_rfr))\n",
        "print(\"RMSE for Testing Data: \", RMSE_RFR_test)"
      ],
      "execution_count": null,
      "outputs": [
        {
          "output_type": "stream",
          "text": [
            "0.6712157661413038\n",
            "RMSE for Testing Data:  2.8411804896135835\n"
          ],
          "name": "stdout"
        }
      ]
    },
    {
      "cell_type": "markdown",
      "metadata": {
        "id": "pyll5Z9P9hOU"
      },
      "source": [
        "# **12. Modeling the dataset where missing values were filled by MICE Algorithm** "
      ]
    },
    {
      "cell_type": "markdown",
      "metadata": {
        "id": "i_g_0VxK9wuB"
      },
      "source": [
        "Using the sci-kit estimator workflow for choosing models , implementing different models on datasets"
      ]
    },
    {
      "cell_type": "markdown",
      "metadata": {
        "id": "IKI0bB967b9I"
      },
      "source": [
        "## Preparing Data for Machine Learning Model"
      ]
    },
    {
      "cell_type": "code",
      "metadata": {
        "id": "HnAnZ5tNGsSB"
      },
      "source": [
        "X = c.drop('selling_price_1' , axis = 1)\n",
        "Y = c['selling_price_1'].values\n",
        "\n",
        "\n",
        "np.random.seed(42)\n",
        "X_train , X_test , Y_train , Y_test = train_test_split(X,Y,test_size = 0.2)\n",
        "\n",
        "# Normalize the data\n",
        "sc = StandardScaler()\n",
        "X_train = sc.fit_transform(X_train)\n",
        "X_test = sc.transform(X_test)"
      ],
      "execution_count": null,
      "outputs": []
    },
    {
      "cell_type": "markdown",
      "metadata": {
        "id": "W3S0d2Ws7qRo"
      },
      "source": [
        "## **Models**"
      ]
    },
    {
      "cell_type": "markdown",
      "metadata": {
        "id": "8RNFy3YK7lnW"
      },
      "source": [
        "## Random Forest Regressor"
      ]
    },
    {
      "cell_type": "code",
      "metadata": {
        "id": "GuVFo0rEHZBm",
        "outputId": "57bf7313-b072-499c-c6c8-ae7dee995204",
        "colab": {
          "base_uri": "https://localhost:8080/",
          "height": 54
        }
      },
      "source": [
        "from sklearn.ensemble import RandomForestRegressor  \n",
        "# Using Random Forest Regressor\n",
        "random_forest_reg = RandomForestRegressor() \n",
        "random_forest_reg.fit(X_train, Y_train) \n",
        "y_train_pred_rfg = random_forest_reg.predict(X_train)\n",
        "\n",
        "y_test_pred_rfg = random_forest_reg.predict(X_test)\n",
        "\n",
        "# R^2 value\n",
        "print(random_forest_reg.score(X_test, Y_test))\n",
        "\n",
        "# Root Mean Squared Value for cross verification\n",
        "RMSE_RFR_test = sqrt(mean_squared_error(Y_test, y_test_pred_rfg))\n",
        "print(\"RMSE for Testing Data: \", RMSE_RFR_test)\n",
        "\n",
        "# Actual & Predicted Comparison \n",
        "# results = pd.DataFrame({'Actual': Y_test, 'Predicted': y_test_pred_rfg})\n",
        "# results['Predicted'] = round(results['Predicted'] , 2)"
      ],
      "execution_count": null,
      "outputs": [
        {
          "output_type": "stream",
          "text": [
            "0.9911150140853588\n",
            "RMSE for Testing Data:  0.46705895541575027\n"
          ],
          "name": "stdout"
        }
      ]
    },
    {
      "cell_type": "markdown",
      "metadata": {
        "id": "5i75e-NG7wVF"
      },
      "source": [
        "## Decision Tree Regressor"
      ]
    },
    {
      "cell_type": "code",
      "metadata": {
        "id": "R8WrRfvhHgkv",
        "outputId": "3e3764b0-f9ed-4f6e-b8af-88a0c44ed80f",
        "colab": {
          "base_uri": "https://localhost:8080/",
          "height": 54
        }
      },
      "source": [
        "from sklearn.tree import DecisionTreeRegressor  \n",
        "\n",
        "# Using Decision Tree Regressor\n",
        "decision_tree_reg = DecisionTreeRegressor()  \n",
        "decision_tree_reg.fit(X_train, Y_train) \n",
        "y_test_pred_dtr = decision_tree_reg.predict(X_test)\n",
        "\n",
        "# R^2 value\n",
        "print(decision_tree_reg.score(X_test, Y_test))\n",
        "\n",
        "# Root Mean Squared Value for cross verification\n",
        "RMSE_DTR_test = sqrt(mean_squared_error(Y_test, y_test_pred_dtr))\n",
        "print(\"RMSE for Testing Data: \", RMSE_DTR_test)"
      ],
      "execution_count": null,
      "outputs": [
        {
          "output_type": "stream",
          "text": [
            "0.9832490915633842\n",
            "RMSE for Testing Data:  0.6413018816815337\n"
          ],
          "name": "stdout"
        }
      ]
    },
    {
      "cell_type": "markdown",
      "metadata": {
        "id": "_b-eawIc71l8"
      },
      "source": [
        "## Support Vector Machines (SVM)"
      ]
    },
    {
      "cell_type": "code",
      "metadata": {
        "id": "MzUSg3MbH05D",
        "outputId": "88cc3bdd-d209-46bc-c580-bf4f6c49e2f2",
        "colab": {
          "base_uri": "https://localhost:8080/",
          "height": 54
        }
      },
      "source": [
        "from sklearn import svm\n",
        "\n",
        "# Using Decision Tree Regressor\n",
        "model_svm = svm.SVR()\n",
        "model_svm.fit(X_train , Y_train)\n",
        "y_test_pred_svm = model_svm.predict(X_test)\n",
        "\n",
        "\n",
        "# R^2 value\n",
        "print(model_svm.score(X_test , Y_test))\n",
        "\n",
        "# Root Mean Squared Value for cross verification\n",
        "RMSE_SVM_test = sqrt(mean_squared_error(Y_test, y_test_pred_svm))\n",
        "print(\"RMSE for Testing Data: \", RMSE_SVM_test)"
      ],
      "execution_count": null,
      "outputs": [
        {
          "output_type": "stream",
          "text": [
            "0.9073315788730568\n",
            "RMSE for Testing Data:  1.5083746107592484\n"
          ],
          "name": "stdout"
        }
      ]
    },
    {
      "cell_type": "markdown",
      "metadata": {
        "id": "igw5rhOo77Wz"
      },
      "source": [
        "## Ridge Regression"
      ]
    },
    {
      "cell_type": "code",
      "metadata": {
        "id": "x23YdfSJIAml",
        "outputId": "c36277c1-7f67-47ed-d140-7bcfffbd7c89",
        "colab": {
          "base_uri": "https://localhost:8080/",
          "height": 54
        }
      },
      "source": [
        "from sklearn import linear_model\n",
        "\n",
        "# Using Multiple Linear Regression\n",
        "model_ridge = linear_model.Ridge(alpha=.5)\n",
        "model_ridge.fit(X_train , Y_train)\n",
        "y_test_pred_lm = model_ridge.predict(X_test)\n",
        "\n",
        "# R^2 value\n",
        "print(model_ridge.score(X_test , Y_test))\n",
        "\n",
        "# Root Mean Squared Value for cross verification\n",
        "RMSE_MLR_test = sqrt(mean_squared_error(Y_test, y_test_pred_lm))\n",
        "print(\"RMSE for Testing Data: \", RMSE_MLR_test)"
      ],
      "execution_count": null,
      "outputs": [
        {
          "output_type": "stream",
          "text": [
            "0.9913705779175762\n",
            "RMSE for Testing Data:  0.46029280646587634\n"
          ],
          "name": "stdout"
        }
      ]
    },
    {
      "cell_type": "code",
      "metadata": {
        "id": "gnrHGARUaP7y"
      },
      "source": [
        "input_data = {'year': [2015],\n",
        "              'km_driven': [28000],\n",
        "              'Present_Price': [13.36],\n",
        "              'fuel_Diesel': [1],\n",
        "              'fuel_LPG' : [0],\n",
        "              'fuel_Petrol':[0],\n",
        "              'seller_type_Individual':[0],\n",
        "              'seller_type_Trustmark Dealer': [1],\n",
        "              'transmission_Manual':[1],\n",
        "              'owner_Fourth & Above Owner':[0],\n",
        "              'owner_Second Owner':[0],\n",
        "              'owner_Test Drive Car':[0],\n",
        "              'owner_Third Owner':[0],\n",
        "}\n",
        "\n",
        "\n",
        "# Convert to pandas dataframe\n",
        "input_data = pd.DataFrame(input_data)\n",
        "\n",
        "# Transform data using sc.transform\n",
        "input_data = sc.transform(input_data)\n",
        "\n",
        "# Reshape data for input into our model predict function\n",
        "input_data = input_data.reshape(1, -1)\n",
        "\n",
        "# Run prediction for our test sameple\n",
        "# model.predict(input_data)\n",
        "\n",
        "# print probabilities of belonging to either class\n",
        "# model.predict_proba(input_data)"
      ],
      "execution_count": null,
      "outputs": []
    },
    {
      "cell_type": "code",
      "metadata": {
        "id": "5ziztm-7BT7q",
        "outputId": "40bc6e0e-49d3-4713-ab1d-27254bdb06a7",
        "colab": {
          "base_uri": "https://localhost:8080/",
          "height": 35
        }
      },
      "source": [
        "random_forest_reg.predict(input_data)"
      ],
      "execution_count": null,
      "outputs": [
        {
          "output_type": "execute_result",
          "data": {
            "text/plain": [
              "array([8.8288])"
            ]
          },
          "metadata": {
            "tags": []
          },
          "execution_count": 757
        }
      ]
    },
    {
      "cell_type": "code",
      "metadata": {
        "id": "Fo3tLaARCfA8",
        "outputId": "eb4a0244-8e5e-4c36-fbda-58786fbfb234",
        "colab": {
          "base_uri": "https://localhost:8080/",
          "height": 35
        }
      },
      "source": [
        "model_ridge.predict(input_data)"
      ],
      "execution_count": null,
      "outputs": [
        {
          "output_type": "execute_result",
          "data": {
            "text/plain": [
              "array([9.06078758])"
            ]
          },
          "metadata": {
            "tags": []
          },
          "execution_count": 758
        }
      ]
    },
    {
      "cell_type": "markdown",
      "metadata": {
        "id": "axv1MOxqITtz"
      },
      "source": [
        "#**13. Result**"
      ]
    },
    {
      "cell_type": "markdown",
      "metadata": {
        "id": "cJG29uDHIsLG"
      },
      "source": [
        "# *R^2 Score is far more better in models of dataset where missing values were imputed from MICE algorithm , therefore ignoring Regression Imputation Algorithm & selecting the models from modeling of MICE algorithm dataset*\n",
        "\n",
        "# **Now , the best model from the MICE Algorithm dataset was**\n",
        "\n",
        "`**RIDGE REGRESSION**`\n",
        "\n",
        "`**RANDOM FOREST REGRESSOR**`\n",
        "\n",
        "# **both giving the R^2 Score of 0.99 and RMSE of 0.46 .**\n",
        "\n",
        "\n",
        "**The `Decision Tree Regression` gave an R^2 Score of 0.98 and an RMSE of 0.64**\n",
        "\n"
      ]
    },
    {
      "cell_type": "markdown",
      "metadata": {
        "id": "PQwLiE4iKjX7"
      },
      "source": [
        "# *Therefore , as we have our best model , lets predict some Selling Price of cars listed at [CarDekho](https://https://www.cardekho.com/) in real time and cross-verify the same .* \n",
        "\n",
        "# **Let's check how good our model actually is !!!!**"
      ]
    },
    {
      "cell_type": "markdown",
      "metadata": {
        "id": "5QNvARBt0kNN"
      },
      "source": [
        "# Outputs"
      ]
    },
    {
      "cell_type": "code",
      "metadata": {
        "id": "NolPPiSs0ipW"
      },
      "source": [
        "input_data_1 = {'year': [2017],\n",
        "              'km_driven': [5000],\n",
        "              'Present_Price': [6.87],\n",
        "              'fuel_Diesel': [0],\n",
        "              'fuel_LPG' : [0],\n",
        "              'fuel_Petrol':[1],\n",
        "              'seller_type_Individual':[0],\n",
        "              'seller_type_Trustmark Dealer': [1],\n",
        "              'transmission_Manual':[1],\n",
        "              'owner_Fourth & Above Owner':[0],\n",
        "              'owner_Second Owner':[0],\n",
        "              'owner_Test Drive Car':[0],\n",
        "              'owner_Third Owner':[0],\n",
        "}\n",
        "\n",
        "\n",
        "\n",
        "# Convert to pandas dataframe\n",
        "input_data_1 = pd.DataFrame(input_data_1)\n",
        "\n",
        "# Transform data using sc.transform\n",
        "input_data_1 = sc.transform(input_data_1)\n",
        "\n",
        "# Reshape data for input into our model predict function\n",
        "input_data_1 = input_data_1.reshape(1, -1)"
      ],
      "execution_count": null,
      "outputs": []
    },
    {
      "cell_type": "code",
      "metadata": {
        "id": "d4TPLF_t0pjC",
        "outputId": "455b2c6c-0187-4a68-f77e-8f968f20a11a",
        "colab": {
          "base_uri": "https://localhost:8080/",
          "height": 54
        }
      },
      "source": [
        "print('Random Forest Regressor Prediction :' , random_forest_reg.predict(input_data_1))\n",
        "print('Ridge Regression Prediction :' , model_ridge.predict(input_data_1))"
      ],
      "execution_count": null,
      "outputs": [
        {
          "output_type": "stream",
          "text": [
            "Random Forest Regressor Prediction : [5.51]\n",
            "Ridge Regression Prediction : [5.56671996]\n"
          ],
          "name": "stdout"
        }
      ]
    },
    {
      "cell_type": "markdown",
      "metadata": {
        "id": "IV09LCn_OK37"
      },
      "source": [
        "Our model predicted value close to 5.5 \n",
        "\n",
        "Now , lets check the value at `CarDekho` \n",
        "\n",
        "*You can check the value* [here](https://www.cardekho.com/used-car-details/used-Hyundai-Grand-i10-1.2-Kappa-Sportz-BSIV-cars-Bangalore_B90CB5E32F190154C13E4BE9CAC17B85.htm)\n",
        "\n",
        "*If you checked*\n",
        "\n",
        "\n",
        "***Predicted Price :*** `5.56 lakhs`\n",
        "\n",
        "***Selling Price at Car Dekho :*** `5.85 lakhs`"
      ]
    },
    {
      "cell_type": "code",
      "metadata": {
        "id": "ltuY9KinNKfD"
      },
      "source": [
        "input_data_2 = {'year': [2019],\n",
        "              'km_driven': [6335],\n",
        "              'Present_Price': [14.21],\n",
        "              'fuel_Diesel': [0],\n",
        "              'fuel_LPG' : [0],\n",
        "              'fuel_Petrol':[1],\n",
        "              'seller_type_Individual':[1],\n",
        "              'seller_type_Trustmark Dealer': [0],\n",
        "              'transmission_Manual':[1],\n",
        "              'owner_Fourth & Above Owner':[0],\n",
        "              'owner_Second Owner':[0],\n",
        "              'owner_Test Drive Car':[0],\n",
        "              'owner_Third Owner':[0],\n",
        "}\n",
        "\n",
        "\n",
        "\n",
        "# Convert to pandas dataframe\n",
        "input_data_2 = pd.DataFrame(input_data_2)\n",
        "\n",
        "# Transform data using sc.transform\n",
        "input_data_2 = sc.transform(input_data_2)\n",
        "\n",
        "# Reshape data for input into our model predict function\n",
        "input_data_2 = input_data_2.reshape(1, -1)"
      ],
      "execution_count": null,
      "outputs": []
    },
    {
      "cell_type": "code",
      "metadata": {
        "id": "77Y-8i93PqL_",
        "outputId": "a8f5c4e2-89f9-4490-a528-2f658f9f2a7e",
        "colab": {
          "base_uri": "https://localhost:8080/",
          "height": 54
        }
      },
      "source": [
        "print('Random Forest Regressor Prediction :' , random_forest_reg.predict(input_data_2))\n",
        "print('Ridge Regression Prediction :' , model_ridge.predict(input_data_2))"
      ],
      "execution_count": null,
      "outputs": [
        {
          "output_type": "stream",
          "text": [
            "Random Forest Regressor Prediction : [10.7897]\n",
            "Ridge Regression Prediction : [10.84047047]\n"
          ],
          "name": "stdout"
        }
      ]
    },
    {
      "cell_type": "markdown",
      "metadata": {
        "id": "GuMzcXbGQhql"
      },
      "source": [
        "Our model predicted value close to 10.8 \n",
        "\n",
        "Now , lets check the value at `CarDekho` \n",
        "\n",
        "*You can check the value* [here](https://www.cardekho.com/used-car-details/used-Hyundai-Creta-2015-2020-1.6-SX-Option-Executive-cars-Bangalore_82BA4DB567AF0494D027466F9C5D79A1.htm)\n",
        "\n",
        "*If you checked*\n",
        "\n",
        "\n",
        "***Predicted Price :*** `10.84 lakhs`\n",
        "\n",
        "***Selling Price at Car Dekho :*** `13.48 lakhs`"
      ]
    }
  ]
}